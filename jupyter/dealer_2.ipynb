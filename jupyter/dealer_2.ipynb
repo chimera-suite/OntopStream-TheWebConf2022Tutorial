{
 "cells": [
  {
   "cell_type": "markdown",
   "id": "2fcb42f8-99ec-4dee-9d11-13e877b8d25b",
   "metadata": {},
   "source": [
    "# Kafka Producer: dealer #2"
   ]
  },
  {
   "cell_type": "code",
   "execution_count": null,
   "id": "a85aca8d-30b7-4268-a56d-9e3ca33d7f69",
   "metadata": {},
   "outputs": [],
   "source": [
    "pip install confluent_kafka --quiet"
   ]
  },
  {
   "cell_type": "code",
   "execution_count": null,
   "id": "799c1326-0f7c-4e9e-925d-71a6a4718f45",
   "metadata": {},
   "outputs": [],
   "source": [
    "from confluent_kafka import Producer, KafkaError\n",
    "from confluent_kafka.admin import AdminClient, NewTopic, NewPartitions\n",
    "import string\n",
    "\n",
    "topic_vehicles = \"DEALER2_VEHICLES\"\n",
    "topic_users = \"DEALER2_USERS\"\n",
    "\n",
    "a = AdminClient({'bootstrap.servers': 'kafka:9092'})\n",
    "fs = a.create_topics([NewTopic(topic_vehicles, num_partitions=1, replication_factor=1),\n",
    "                      NewTopic(topic_users, num_partitions=1, replication_factor=1)])\n",
    "\n",
    "for t, f in fs.items():\n",
    "    try:\n",
    "        f.result()  # The result itself is None\n",
    "        print(\"Topic {} created\".format(t))\n",
    "    except Exception as e:\n",
    "        print(\"Failed to create topic {}: {}\".format(t, e))"
   ]
  },
  {
   "cell_type": "markdown",
   "id": "da08ba02-aeeb-4fd9-ac4e-c98cef5b9f30",
   "metadata": {},
   "source": [
    "Generate and publish a new topic message every 20 to 40 seconds."
   ]
  },
  {
   "cell_type": "code",
   "execution_count": null,
   "id": "53c0e5f4-0ad8-43c3-be8e-39668459b88a",
   "metadata": {},
   "outputs": [],
   "source": [
    "producerconf = {'bootstrap.servers': 'kafka:9092'}\n",
    "prod = Producer(producerconf)"
   ]
  },
  {
   "cell_type": "code",
   "execution_count": null,
   "id": "9fc33c11-345a-4fbe-abce-cac27eede2d7",
   "metadata": {},
   "outputs": [],
   "source": [
    "from csv import DictReader,reader\n",
    "from datetime import datetime\n",
    "import time\n",
    "import random\n",
    "import json\n",
    "\n",
    "users = {}\n",
    "registered_users = []\n",
    "with open('/home/jovyan/data_generator/users.csv', 'r') as user_file:\n",
    "    csv_reader = reader(user_file)\n",
    "    header = next(csv_reader)\n",
    "    for row in csv_reader:\n",
    "        users[row[0]]=row[1]\n",
    "        \n",
    "\n",
    "# Kafka topic writing\n",
    "for vehicle in iter(DictReader(open('/home/jovyan/data_generator/vehicles.csv', 'r'))):\n",
    "    \n",
    "    if vehicle[\"userID\"] not in registered_users:\n",
    "        uid = vehicle[\"userID\"]\n",
    "        registered_users.append(uid)\n",
    "        user = {\"userID\": uid, \"name\": users[uid]}\n",
    "        print(\"USER: {}\".format(user))\n",
    "        prod.produce(topic=topic_users, value=json.dumps(user))\n",
    "    \n",
    "    vehicle[\"ts\"] = datetime.now().strftime(\"%Y-%m-%d %H:%M:%S\")\n",
    "    print(\"VEHICLE: {}\".format(vehicle))\n",
    "    prod.produce(topic=topic_vehicles, value=json.dumps(vehicle))\n",
    "    \n",
    "    # Random data generation sleeping interval\n",
    "    time.sleep(random.randint(20,40))"
   ]
  }
 ],
 "metadata": {
  "kernelspec": {
   "display_name": "Python 3 (ipykernel)",
   "language": "python",
   "name": "python3"
  },
  "language_info": {
   "codemirror_mode": {
    "name": "ipython",
    "version": 3
   },
   "file_extension": ".py",
   "mimetype": "text/x-python",
   "name": "python",
   "nbconvert_exporter": "python",
   "pygments_lexer": "ipython3",
   "version": "3.9.7"
  }
 },
 "nbformat": 4,
 "nbformat_minor": 5
}
