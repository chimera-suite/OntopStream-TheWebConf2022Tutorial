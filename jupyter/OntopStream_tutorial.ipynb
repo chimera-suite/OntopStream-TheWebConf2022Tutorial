{
 "cells": [
  {
   "cell_type": "markdown",
   "metadata": {},
   "source": [
    "> Get the car rentals (from both the branches)"
   ]
  },
  {
   "cell_type": "code",
   "execution_count": null,
   "metadata": {},
   "outputs": [],
   "source": [
    "from SPARQLStreamWrapper import SPARQLStreamWrapper, TSV\n",
    "\n",
    "sparql = SPARQLStreamWrapper(\"http://ontop:8080/sparql\")\n",
    "sparql.setQuery(\"\"\"\n",
    "PREFIX : <http://www.semanticweb.org/car-rental#>\n",
    "\n",
    "SELECT ?user ?car ?model ?start\n",
    "\n",
    "WHERE {\n",
    "    ?car a :Car; :model ?model.\n",
    "    ?rent a :Rental; :car ?car.\n",
    "    ?rent :hasStart ?start; :user ?user.\n",
    "}\n",
    "\"\"\")\n",
    "\n",
    "sparql.addParameter(\"streaming-mode\",\"single-element\")\n",
    "sparql.setReturnFormat(TSV)\n",
    "\n",
    "results=sparql.query()\n",
    "\n",
    "try:\n",
    "    for result in results:\n",
    "        data = result.getRawResponse().decode('utf8')\n",
    "        print(data)\n",
    "except KeyboardInterrupt:\n",
    "    sparql.endQuery()\n",
    "    print(\"Ended by user\")"
   ]
  },
  {
   "cell_type": "markdown",
   "metadata": {},
   "source": [
    "> Get the Porsche cars rentals (from both the branches)"
   ]
  },
  {
   "cell_type": "code",
   "execution_count": null,
   "metadata": {},
   "outputs": [],
   "source": [
    "from SPARQLStreamWrapper import SPARQLStreamWrapper, TSV\n",
    "\n",
    "sparql = SPARQLStreamWrapper(\"http://ontop:8080/sparql\")\n",
    "sparql.setQuery(\"\"\"\n",
    "PREFIX : <http://www.semanticweb.org/car-rental#>\n",
    "\n",
    "SELECT ?user ?car ?man ?model ?start\n",
    "\n",
    "WHERE {\n",
    "    ?car a :Car; :model ?model; :manufacturer ?man.\n",
    "    ?rent a :Rental; :car ?car.\n",
    "    ?rent :hasStart ?start; :user ?user.\n",
    "    FILTER(?man=\"Tesla\" || ?man=\"Porsche\")\n",
    "}\n",
    "\"\"\")\n",
    "\n",
    "sparql.addParameter(\"streaming-mode\",\"single-element\")\n",
    "sparql.setReturnFormat(TSV)\n",
    "\n",
    "results=sparql.query()\n",
    "\n",
    "try:\n",
    "    for result in results:\n",
    "        data = result.getRawResponse().decode('utf8')                        # Get response from OntopStream\n",
    "        data = data.replace(\"<http://www.semanticweb.org/car-rental#\",\"\")    # Remove prefixes\n",
    "        data = data.replace(\"%20\",\" \")                                       # Clean IDs\n",
    "        print(data)\n",
    "except KeyboardInterrupt:\n",
    "    sparql.endQuery()\n",
    "    print(\"Ended by user\")"
   ]
  },
  {
   "cell_type": "markdown",
   "metadata": {},
   "source": [
    "> Get the rentals for Mercedes vehicles (trucks and cars)"
   ]
  },
  {
   "cell_type": "code",
   "execution_count": null,
   "metadata": {},
   "outputs": [],
   "source": [
    "from SPARQLStreamWrapper import SPARQLStreamWrapper, CSV\n",
    "import os\n",
    "\n",
    "sparql = SPARQLStreamWrapper(\"http://ontop:8080/sparql\")\n",
    "sparql.setQuery(\"\"\"\n",
    "PREFIX : <http://www.semanticweb.org/car-rental#>\n",
    "\n",
    "SELECT ?user ?car ?man ?start\n",
    "\n",
    "WHERE {\n",
    "    ?v a :Vehicle; :manufacturer ?man.\n",
    "    ?rent a :Rental; :car ?car.\n",
    "    ?rent :hasStart ?start; :user ?user.\n",
    "    FILTER(?man=\"Mercedes\")\n",
    "}\n",
    "\"\"\")\n",
    "\n",
    "sparql.addParameter(\"streaming-mode\",\"single-element\")\n",
    "sparql.setReturnFormat(CSV)\n",
    "\n",
    "file=open(\"output/query_3.csv\", \"w+\")\n",
    "\n",
    "results=sparql.query()\n",
    "\n",
    "try:\n",
    "    for result in results:\n",
    "        data = result.getRawResponse().decode('utf8')                     # Get response from OntopStream\n",
    "        data = data.replace(\"http://www.semanticweb.org/car-rental#\",\"\")  # Remove prefixes\n",
    "        data = data.replace(\"%20\",\" \")                                    # Clean Names\n",
    "        print(data)\n",
    "        file.write(data)                                                  # Write response in a file\n",
    "        file.flush()                                                      # Flush the writing operation\n",
    "        os.fsync(file.fileno())\n",
    "except KeyboardInterrupt:\n",
    "    sparql.endQuery()\n",
    "    file.close()\n",
    "    print(\"Ended by user\")"
   ]
  },
  {
   "cell_type": "markdown",
   "metadata": {},
   "source": [
    "> Get the trucks old rentals (rentals which have been finished)"
   ]
  },
  {
   "cell_type": "code",
   "execution_count": null,
   "metadata": {},
   "outputs": [],
   "source": [
    "from SPARQLStreamWrapper import SPARQLStreamWrapper, CSV\n",
    "import os\n",
    "\n",
    "sparql = SPARQLStreamWrapper(\"http://ontop:8080/sparql\")\n",
    "sparql.setQuery(\"\"\"\n",
    "PREFIX : <http://www.semanticweb.org/car-rental#>\n",
    "\n",
    "SELECT ?rent ?manuf ?model ?end\n",
    "FROM NAMED WINDOW :wind1 ON :trips [RANGE PT1M STEP PT1M]\n",
    "WHERE {\n",
    "    ?truck a :Truck; :manufacturer ?manuf; :model ?model.\n",
    "    ?rent a :RentalEnd; :truck ?truck.\n",
    "    ?rent :hasEnd ?end.\n",
    "}\n",
    "\"\"\")\n",
    "\n",
    "sparql.addParameter(\"streaming-mode\",\"single-element\")\n",
    "sparql.setReturnFormat(CSV)\n",
    "\n",
    "file=open(\"output/query_4.csv\", \"w+\")\n",
    "\n",
    "results=sparql.query()\n",
    "\n",
    "try:\n",
    "    for result in results:\n",
    "        data = result.getRawResponse().decode('utf8')                     # Get response from OntopStream\n",
    "        data = data.replace(\"http://www.semanticweb.org/car-rental#\",\"\")  # Remove prefixes\n",
    "        print(data)\n",
    "        file.write(data)                                                  # Write response in a file\n",
    "        file.flush()                                                      # Flush the writing operation\n",
    "        os.fsync(file.fileno())\n",
    "except KeyboardInterrupt:\n",
    "    sparql.endQuery()\n",
    "    file.close()\n",
    "    print(\"Ended by user\")"
   ]
  }
 ],
 "metadata": {
  "kernelspec": {
   "display_name": "Python 3 (ipykernel)",
   "language": "python",
   "name": "python3"
  },
  "language_info": {
   "codemirror_mode": {
    "name": "ipython",
    "version": 3
   },
   "file_extension": ".py",
   "mimetype": "text/x-python",
   "name": "python",
   "nbconvert_exporter": "python",
   "pygments_lexer": "ipython3",
   "version": "3.9.7"
  }
 },
 "nbformat": 4,
 "nbformat_minor": 4
}
