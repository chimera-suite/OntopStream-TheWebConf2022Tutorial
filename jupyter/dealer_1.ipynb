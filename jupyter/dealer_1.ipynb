{
 "cells": [
  {
   "cell_type": "markdown",
   "metadata": {
    "tags": []
   },
   "source": [
    "# Kafka Producer: dealer #1"
   ]
  },
  {
   "cell_type": "code",
   "execution_count": null,
   "metadata": {},
   "outputs": [],
   "source": [
    "pip install confluent_kafka --quiet"
   ]
  },
  {
   "cell_type": "code",
   "execution_count": null,
   "metadata": {},
   "outputs": [],
   "source": [
    "from confluent_kafka import Producer, KafkaError\n",
    "from confluent_kafka.admin import AdminClient, NewTopic, NewPartitions\n",
    "import string\n",
    "\n",
    "topic_cars = \"DEALER1_CARS\"\n",
    "topic_trucks = \"DEALER1_TRUCKS\"\n",
    "\n",
    "a = AdminClient({'bootstrap.servers': 'kafka:9092'})\n",
    "fs = a.create_topics([NewTopic(topic_cars, num_partitions=1, replication_factor=1),\n",
    "                      NewTopic(topic_trucks, num_partitions=1, replication_factor=1)])\n",
    "\n",
    "for t, f in fs.items():\n",
    "    try:\n",
    "        f.result()  # The result itself is None\n",
    "        print(\"Topic {} created\".format(t))\n",
    "    except Exception as e:\n",
    "        print(\"Failed to create topic {}: {}\".format(t, e))"
   ]
  },
  {
   "cell_type": "markdown",
   "metadata": {},
   "source": [
    "Generate and publish a new topic message every 20 to 40 seconds."
   ]
  },
  {
   "cell_type": "code",
   "execution_count": null,
   "metadata": {},
   "outputs": [],
   "source": [
    "producerconf = {'bootstrap.servers': 'kafka:9092'}\n",
    "prod = Producer(producerconf)"
   ]
  },
  {
   "cell_type": "code",
   "execution_count": null,
   "metadata": {},
   "outputs": [
    {
     "name": "stdout",
     "output_type": "stream",
     "text": [
      "TRUCK: {'user': 'Ann Duppstadt', 'rid': '3', 'manufacturer': 'Iveco', 'model': 'Daily', 'plate': 'KMCIOWM', 'status': 'END', 'ts': '2022-04-04 11:02:33'}\n",
      "CAR: {'user': 'Hubert Grissett', 'rid': '4', 'manufacturer': 'Fiat', 'model': 'Tipo', 'plate': 'H3NP56Y', 'status': 'END', 'ts': '2022-04-04 11:03:13'}\n",
      "TRUCK: {'user': 'Richard Tillman', 'rid': '9', 'manufacturer': 'Iveco', 'model': 'Daily', 'plate': 'KMCIOWM', 'status': 'START', 'ts': '2022-04-04 11:03:43'}\n",
      "TRUCK: {'user': 'Henry Romero', 'rid': '10', 'manufacturer': 'Fiat', 'model': 'Ducato', 'plate': 'JSDJFI3', 'status': 'START', 'ts': '2022-04-04 11:04:07'}\n",
      "TRUCK: {'user': 'Hubert Grissett', 'rid': '7', 'manufacturer': 'Iveco', 'model': 'Daily', 'plate': 'HHST532', 'status': 'END', 'ts': '2022-04-04 11:04:36'}\n",
      "TRUCK: {'user': 'Henry Romero', 'rid': '6', 'manufacturer': 'Iveco', 'model': 'Daily', 'plate': 'H39DXCO', 'status': 'END', 'ts': '2022-04-04 11:05:15'}\n",
      "CAR: {'user': 'Mayme Jones', 'rid': '12', 'manufacturer': 'Fiat', 'model': 'Tipo', 'plate': 'H3NP56Y', 'status': 'START', 'ts': '2022-04-04 11:05:55'}\n"
     ]
    }
   ],
   "source": [
    "from csv import DictReader\n",
    "from datetime import datetime\n",
    "import time\n",
    "import random\n",
    "import json\n",
    "\n",
    "cars = iter(DictReader(open(\"/home/jovyan/data_generator/cars.csv\", 'r')))\n",
    "trucks = iter(DictReader(open(\"/home/jovyan/data_generator/trucks.csv\", 'r')))\n",
    "\n",
    "carEnd=False\n",
    "truckEnd=False\n",
    "\n",
    "\n",
    "# Kafka topic writing\n",
    "while carEnd==False or truckEnd==False:\n",
    "    \n",
    "    date_time = datetime.now().strftime(\"%Y-%m-%d %H:%M:%S\")\n",
    "    \n",
    "    if random.randint(0,1) == 0: # Cars\n",
    "        car = next(cars, None)\n",
    "        if car is not None:\n",
    "            car['ts'] = date_time\n",
    "            print(\"CAR: {}\".format(car))\n",
    "            prod.produce(topic=topic_cars, value=json.dumps(car))\n",
    "        else:\n",
    "            carEnd=True\n",
    "    else: # Trucks\n",
    "        truck = next(trucks, None)\n",
    "        if truck is not None:\n",
    "            truck['ts'] = date_time\n",
    "            print(\"TRUCK: {}\".format(truck))\n",
    "            prod.produce(topic=topic_trucks, value=json.dumps(truck))\n",
    "        else:\n",
    "            truckEnd=True\n",
    "    \n",
    "    # Random data generation sleeping interval\n",
    "    time.sleep(random.randint(20,40))"
   ]
  },
  {
   "cell_type": "code",
   "execution_count": null,
   "metadata": {},
   "outputs": [],
   "source": []
  }
 ],
 "metadata": {
  "kernelspec": {
   "display_name": "Python 3 (ipykernel)",
   "language": "python",
   "name": "python3"
  },
  "language_info": {
   "codemirror_mode": {
    "name": "ipython",
    "version": 3
   },
   "file_extension": ".py",
   "mimetype": "text/x-python",
   "name": "python",
   "nbconvert_exporter": "python",
   "pygments_lexer": "ipython3",
   "version": "3.9.7"
  }
 },
 "nbformat": 4,
 "nbformat_minor": 4
}
