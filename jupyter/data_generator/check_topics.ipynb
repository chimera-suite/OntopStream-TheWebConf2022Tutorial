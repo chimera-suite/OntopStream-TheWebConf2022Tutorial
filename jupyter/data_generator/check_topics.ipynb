{
 "cells": [
  {
   "cell_type": "code",
   "execution_count": 3,
   "id": "93fb0cd1-5107-415a-a6c4-7442a93bbe0c",
   "metadata": {},
   "outputs": [],
   "source": [
    "from confluent_kafka import Producer, KafkaError\n",
    "from confluent_kafka.admin import AdminClient, NewTopic, NewPartitions\n",
    "import json\n",
    "\n",
    "admin_client = AdminClient({'bootstrap.servers': 'kafka:9092'})"
   ]
  },
  {
   "cell_type": "code",
   "execution_count": 9,
   "id": "457ffa4b-9f4e-47f3-9bd5-8653ddbde1e0",
   "metadata": {},
   "outputs": [
    {
     "name": "stdout",
     "output_type": "stream",
     "text": [
      " 1 topics:\n",
      "  \"__consumer_offsets\" with 50 partition(s)\n"
     ]
    }
   ],
   "source": [
    "# LIST TOPICS\n",
    "\n",
    "md = admin_client.list_topics(timeout=10)\n",
    "print(\" {} topics:\".format(len(md.topics)))\n",
    "for t in iter(md.topics.values()):\n",
    "    if t.error is not None:\n",
    "        errstr = \": {}\".format(t.error)\n",
    "    else:\n",
    "        errstr = \"\"\n",
    "    print(\"  \\\"{}\\\" with {} partition(s){}\".format(t, len(t.partitions), errstr))"
   ]
  },
  {
   "cell_type": "code",
   "execution_count": 8,
   "id": "5dba4881-3805-4956-a045-cbdb1198bc19",
   "metadata": {},
   "outputs": [
    {
     "name": "stdout",
     "output_type": "stream",
     "text": [
      "Failed to delete topic DEALER1_TRUCKS: KafkaError{code=UNKNOWN_TOPIC_OR_PART,val=3,str=\"Broker: Unknown topic or partition\"}\n",
      "Failed to delete topic DEALER2_USERS: KafkaError{code=UNKNOWN_TOPIC_OR_PART,val=3,str=\"Broker: Unknown topic or partition\"}\n",
      "Failed to delete topic DEALER1_CARS: KafkaError{code=UNKNOWN_TOPIC_OR_PART,val=3,str=\"Broker: Unknown topic or partition\"}\n",
      "Failed to delete topic DEALER2_VEHICLES: KafkaError{code=UNKNOWN_TOPIC_OR_PART,val=3,str=\"Broker: Unknown topic or partition\"}\n"
     ]
    }
   ],
   "source": [
    "fs = admin_client.delete_topics([\"DEALER1_TRUCKS\",\"DEALER2_USERS\",\"DEALER1_CARS\",\"DEALER2_VEHICLES\"], operation_timeout=30)\n",
    "\n",
    "# Wait for operation to finish.\n",
    "for topic, f in fs.items():\n",
    "    try:\n",
    "        f.result()  # The result itself is None\n",
    "        print(\"Topic {} deleted\".format(topic))\n",
    "    except Exception as e:\n",
    "        print(\"Failed to delete topic {}: {}\".format(topic, e))"
   ]
  },
  {
   "cell_type": "code",
   "execution_count": 6,
   "id": "1f62dda3-30f4-4865-b47b-04d1b7f1721c",
   "metadata": {},
   "outputs": [
    {
     "name": "stdout",
     "output_type": "stream",
     "text": [
      "Waiting . . . . . . . . . . . . . \n",
      "Consumed record from DEALER1_CARS with value {'user': 'Molly Davis', 'rid': '1', 'manufacturer': 'Fiat', 'model': 'Panda', 'plate': 'FJ7PUJJ', 'status': 'START', 'ts': '2022-01-14 13:51:24'}\n",
      "\n",
      "Consumed record from DEALER1_CARS with value {'user': 'Laura Baker', 'rid': '2', 'manufacturer': 'Tesla', 'model': 'Model S', 'plate': 'JFGJ60A', 'status': 'START', 'ts': '2022-01-14 13:51:24'}\n",
      "\n",
      "Consumed record from DEALER1_CARS with value {'user': 'William Diaz', 'rid': '3', 'manufacturer': 'Fiat', 'model': 'Tipo', 'plate': 'FGL1X62', 'status': 'START', 'ts': '2022-01-14 13:51:24'}\n",
      "\n",
      "Consumed record from DEALER1_CARS with value {'user': 'Molly Davis', 'rid': '1', 'manufacturer': 'Fiat', 'model': 'Panda', 'plate': 'FJ7PUJJ', 'status': 'END', 'ts': '2022-01-14 13:51:24'}\n",
      "\n",
      "Consumed record from DEALER1_CARS with value {'user': 'William Diaz', 'rid': '3', 'manufacturer': 'Fiat', 'model': 'Tipo', 'plate': 'FGL1X62', 'status': 'END', 'ts': '2022-01-14 13:51:24'}\n",
      "\n",
      "Consumed record from DEALER1_CARS with value {'user': 'Hubert Grissett', 'rid': '4', 'manufacturer': 'Fiat', 'model': 'Tipo', 'plate': 'H3NP56Y', 'status': 'START', 'ts': '2022-01-14 13:51:24'}\n",
      "\n",
      "Consumed record from DEALER1_CARS with value {'user': 'Douglas Fitch', 'rid': '5', 'manufacturer': 'Tesla', 'model': 'Model X', 'plate': 'DR7TGF0', 'status': 'START', 'ts': '2022-01-14 13:51:24'}\n",
      "\n",
      "Consumed record from DEALER1_CARS with value {'user': 'Robert Shake', 'rid': '6', 'manufacturer': 'Fiat', 'model': 'Tipo', 'plate': 'G16MEAR', 'status': 'START', 'ts': '2022-01-14 13:51:24'}\n",
      "\n",
      "Consumed record from DEALER1_CARS with value {'user': 'Laura Baker', 'rid': '2', 'manufacturer': 'Tesla', 'model': 'Model S', 'plate': 'JFGJ60A', 'status': 'END', 'ts': '2022-01-14 13:51:24'}\n",
      "\n",
      "Consumed record from DEALER1_CARS with value {'user': 'Lucille Bouchard', 'rid': '7', 'manufacturer': 'Tesla', 'model': 'Model X', 'plate': '8NMSMII', 'status': 'START', 'ts': '2022-01-14 13:51:24'}\n",
      "\n",
      "Consumed record from DEALER1_CARS with value {'user': 'Douglas Fitch', 'rid': '8', 'manufacturer': 'Tesla', 'model': 'Model Y', 'plate': 'AB7TGX0', 'status': 'START', 'ts': '2022-01-14 13:51:24'}\n",
      "\n",
      "Consumed record from DEALER1_CARS with value {'user': 'Laura Baker', 'rid': '9', 'manufacturer': 'Fiat', 'model': 'Panda', 'plate': 'FJ7PUJJ', 'status': 'START', 'ts': '2022-01-14 13:51:24'}\n",
      "\n",
      "Consumed record from DEALER1_CARS with value {'user': 'Frank Cover', 'rid': '10', 'manufacturer': 'Tesla', 'model': 'Model S', 'plate': 'JFGJ60A', 'status': 'START', 'ts': '2022-01-14 13:51:24'}\n",
      "\n",
      "Consumed record from DEALER1_CARS with value {'user': 'Wanda Carver', 'rid': '11', 'manufacturer': 'Fiat', 'model': 'Tipo', 'plate': 'FGL1X62', 'status': 'START', 'ts': '2022-01-14 13:51:24'}\n",
      "\n",
      "Consumed record from DEALER1_CARS with value {'user': 'Frank Cover', 'rid': '10', 'manufacturer': 'Tesla', 'model': 'Model S', 'plate': 'JFGJ60A', 'status': 'END', 'ts': '2022-01-14 13:51:24'}\n",
      "\n",
      "Consumed record from DEALER1_CARS with value {'user': 'Hubert Grissett', 'rid': '4', 'manufacturer': 'Fiat', 'model': 'Tipo', 'plate': 'H3NP56Y', 'status': 'END', 'ts': '2022-01-14 13:51:24'}\n",
      "\n",
      "Consumed record from DEALER1_CARS with value {'user': 'Mayme Jones', 'rid': '12', 'manufacturer': 'Fiat', 'model': 'Tipo', 'plate': 'H3NP56Y', 'status': 'START', 'ts': '2022-01-14 13:51:24'}\n",
      "\n",
      "Consumed record from DEALER1_CARS with value {'user': 'Douglas Fitch', 'rid': '13', 'manufacturer': 'Tesla', 'model': 'Model X', 'plate': 'RT5Y6ZX', 'status': 'START', 'ts': '2022-01-14 13:51:24'}\n",
      "\n",
      "Consumed record from DEALER1_CARS with value {'user': 'Douglas Fitch', 'rid': '14', 'manufacturer': 'Tesla', 'model': 'Model X', 'plate': 'ADFTR34', 'status': 'START', 'ts': '2022-01-14 13:51:24'}\n",
      "\n",
      "Consumed record from DEALER1_CARS with value {'user': 'Mayme Jones', 'rid': '12', 'manufacturer': 'Fiat', 'model': 'Tipo', 'plate': 'H3NP56Y', 'status': 'END', 'ts': '2022-01-14 13:51:24'}\n",
      "\n",
      "Consumed record from DEALER1_CARS with value {'user': 'Robert Shake', 'rid': '6', 'manufacturer': 'Fiat', 'model': 'Tipo', 'plate': 'G16MEAR', 'status': 'END', 'ts': '2022-01-14 13:51:24'}\n",
      "\n",
      "Consumed record from DEALER1_CARS with value {'user': 'William Diaz', 'rid': '15', 'manufacturer': 'Fiat', 'model': 'Tipo', 'plate': 'G16MEAR', 'status': 'START', 'ts': '2022-01-14 13:51:24'}\n",
      "\n",
      "Consumed record from DEALER1_CARS with value {'user': 'Wanda Carver', 'rid': '11', 'manufacturer': 'Fiat', 'model': 'Tipo', 'plate': 'FGL1X62', 'status': 'END', 'ts': '2022-01-14 13:51:24'}\n",
      "\n",
      "Consumed record from DEALER1_CARS with value {'user': 'Laura Baker', 'rid': '9', 'manufacturer': 'Fiat', 'model': 'Panda', 'plate': 'FJ7PUJJ', 'status': 'END', 'ts': '2022-01-14 13:51:24'}\n",
      "\n",
      "Consumed record from DEALER1_CARS with value {'user': 'Michael Ferrell', 'rid': '16', 'manufacturer': 'Fiat', 'model': 'Panda', 'plate': 'FJ7PUJJ', 'status': 'START', 'ts': '2022-01-14 13:51:24'}\n",
      "\n",
      "Consumed record from DEALER1_CARS with value {'user': 'Stephine Trent', 'rid': '17', 'manufacturer': 'Tesla', 'model': 'Model S', 'plate': 'JFGJ60A', 'status': 'START', 'ts': '2022-01-14 13:51:24'}\n",
      "\n",
      "Consumed record from DEALER1_CARS with value {'user': 'Geneva Crews', 'rid': '18', 'manufacturer': 'Fiat', 'model': 'Tipo', 'plate': 'FGL1X62', 'status': 'START', 'ts': '2022-01-14 13:51:24'}\n",
      "\n",
      "Consumed record from DEALER1_CARS with value {'user': 'Mayme Jones', 'rid': '19', 'manufacturer': 'Fiat', 'model': 'Tipo', 'plate': 'H3NP56Y', 'status': 'START', 'ts': '2022-01-14 13:51:24'}\n",
      "\n",
      "Consumed record from DEALER1_CARS with value {'user': 'Douglas Fitch', 'rid': '13', 'manufacturer': 'Tesla', 'model': 'Model X', 'plate': 'RT5Y6ZX', 'status': 'START', 'ts': '2022-01-14 13:51:24'}\n",
      "\n",
      "Consumed record from DEALER1_CARS with value {'user': 'Mayme Jones', 'rid': '19', 'manufacturer': 'Fiat', 'model': 'Tipo', 'plate': 'H3NP56Y', 'status': 'END', 'ts': '2022-01-14 13:51:24'}\n",
      "\n",
      "Consumed record from DEALER1_CARS with value {'user': 'Douglas Fitch', 'rid': '14', 'manufacturer': 'Tesla', 'model': 'Model X', 'plate': 'ADFTR34', 'status': 'END', 'ts': '2022-01-14 13:51:24'}\n",
      "\n",
      "Consumed record from DEALER1_CARS with value {'user': 'Douglas Fitch', 'rid': '8', 'manufacturer': 'Tesla', 'model': 'Model Y', 'plate': 'AB7TGX0', 'status': 'END', 'ts': '2022-01-14 13:51:24'}\n",
      "\n",
      "Consumed record from DEALER1_CARS with value {'user': 'Lucille Bouchard', 'rid': '7', 'manufacturer': 'Tesla', 'model': 'Model X', 'plate': '8NMSMII', 'status': 'END', 'ts': '2022-01-14 13:51:24'}\n",
      "\n",
      "Consumed record from DEALER1_CARS with value {'user': 'William Diaz', 'rid': '15', 'manufacturer': 'Fiat', 'model': 'Tipo', 'plate': 'G16MEAR', 'status': 'END', 'ts': '2022-01-14 13:51:24'}\n",
      "\n",
      "Consumed record from DEALER1_CARS with value {'user': 'Kevin Rodriguez', 'rid': '20', 'manufacturer': 'Fiat', 'model': 'Tipo', 'plate': 'G16MEAR', 'status': 'START', 'ts': '2022-01-14 13:51:24'}\n",
      "\n",
      "Consumed record from DEALER1_CARS with value {'user': 'Catherine Crandell', 'rid': '21', 'manufacturer': 'Tesla', 'model': 'Model X', 'plate': '8NMSMII', 'status': 'START', 'ts': '2022-01-14 13:51:24'}\n",
      "\n",
      "Consumed record from DEALER1_CARS with value {'user': 'Michael Ferrell', 'rid': '16', 'manufacturer': 'Fiat', 'model': 'Panda', 'plate': 'FJ7PUJJ', 'status': 'END', 'ts': '2022-01-14 13:51:24'}\n",
      "\n",
      "Consumed record from DEALER1_CARS with value {'user': 'Stephine Trent', 'rid': '17', 'manufacturer': 'Tesla', 'model': 'Model S', 'plate': 'JFGJ60A', 'status': 'END', 'ts': '2022-01-14 13:51:24'}\n",
      "\n",
      "Consumed record from DEALER1_CARS with value {'user': 'Catherine Crandell', 'rid': '21', 'manufacturer': 'Tesla', 'model': 'Model X', 'plate': '8NMSMII', 'status': 'END', 'ts': '2022-01-14 13:51:24'}\n",
      "\n",
      "Consumed record from DEALER1_CARS with value {'user': 'Hubert Grissett', 'rid': '22', 'manufacturer': 'Tesla', 'model': 'Model X', 'plate': '8NMSMII', 'status': 'START', 'ts': '2022-01-14 13:51:24'}\n",
      "\n",
      "Consumed record from DEALER1_CARS with value {'user': 'Geneva Crews', 'rid': '18', 'manufacturer': 'Fiat', 'model': 'Tipo', 'plate': 'FGL1X62', 'status': 'END', 'ts': '2022-01-14 13:51:24'}\n",
      "\n",
      "Consumed record from DEALER1_CARS with value {'user': 'Douglas Fitch', 'rid': '5', 'manufacturer': 'Tesla', 'model': 'Model X', 'plate': 'DR7TGF0', 'status': 'END', 'ts': '2022-01-14 13:51:24'}\n",
      "\n",
      "Consumed record from DEALER1_CARS with value {'user': 'Kevin Rodriguez', 'rid': '20', 'manufacturer': 'Fiat', 'model': 'Tipo', 'plate': 'G16MEAR', 'status': 'END', 'ts': '2022-01-14 13:51:24'}\n",
      "\n",
      "Consumed record from DEALER1_CARS with value {'user': 'Hubert Grissett', 'rid': '22', 'manufacturer': 'Tesla', 'model': 'Model X', 'plate': '8NMSMII', 'status': 'END', 'ts': '2022-01-14 13:51:24'}\n",
      "\n",
      "Consumed record from DEALER1_TRUCKS with value {'user': 'Laura Baker', 'rid': '1', 'manufacturer': 'Iveco', 'model': 'Daily', 'plate': 'HHST532', 'status': 'START', 'ts': '2022-01-14 13:51:24'}\n",
      "\n",
      "Consumed record from DEALER1_TRUCKS with value {'user': 'Wayne Flower', 'rid': '2', 'manufacturer': 'Fiat', 'model': 'Ducato', 'plate': 'DM89JKD', 'status': 'START', 'ts': '2022-01-14 13:51:24'}\n",
      "\n",
      "Consumed record from DEALER1_TRUCKS with value {'user': 'Ann Duppstadt', 'rid': '3', 'manufacturer': 'Iveco', 'model': 'Daily', 'plate': 'KMCIOWM', 'status': 'START', 'ts': '2022-01-14 13:51:24'}\n",
      "\n",
      "Consumed record from DEALER1_TRUCKS with value {'user': 'Geneva Crews', 'rid': '4', 'manufacturer': 'Iveco', 'model': 'Daily', 'plate': '674GHDF', 'status': 'START', 'ts': '2022-01-14 13:51:24'}\n",
      "\n",
      "Consumed record from DEALER1_TRUCKS with value {'user': 'Richard Tillman', 'rid': '5', 'manufacturer': 'Fiat', 'model': 'Ducato', 'plate': 'JSDJFI3', 'status': 'START', 'ts': '2022-01-14 13:51:24'}\n",
      "\n",
      "Consumed record from DEALER1_TRUCKS with value {'user': 'Henry Romero', 'rid': '6', 'manufacturer': 'Iveco', 'model': 'Daily', 'plate': 'H39DXCO', 'status': 'START', 'ts': '2022-01-14 13:51:24'}\n",
      "\n",
      "Consumed record from DEALER1_TRUCKS with value {'user': 'Richard Tillman', 'rid': '5', 'manufacturer': 'Fiat', 'model': 'Ducato', 'plate': 'JSDJFI3', 'status': 'END', 'ts': '2022-01-14 13:51:24'}\n",
      "\n",
      "Consumed record from DEALER1_TRUCKS with value {'user': 'Wayne Flower', 'rid': '2', 'manufacturer': 'Fiat', 'model': 'Ducato', 'plate': 'DM89JKD', 'status': 'END', 'ts': '2022-01-14 13:51:24'}\n",
      "\n",
      "Consumed record from DEALER1_TRUCKS with value {'user': 'Laura Baker', 'rid': '1', 'manufacturer': 'Iveco', 'model': 'Daily', 'plate': 'HHST532', 'status': 'END', 'ts': '2022-01-14 13:51:24'}\n",
      "\n",
      "Consumed record from DEALER1_TRUCKS with value {'user': 'Hubert Grissett', 'rid': '7', 'manufacturer': 'Iveco', 'model': 'Daily', 'plate': 'HHST532', 'status': 'START', 'ts': '2022-01-14 13:51:24'}\n",
      "\n",
      "Consumed record from DEALER1_TRUCKS with value {'user': 'Hubert Grissett', 'rid': '8', 'manufacturer': 'Fiat', 'model': 'Ducato', 'plate': 'DM89JKD', 'status': 'START', 'ts': '2022-01-14 13:51:24'}\n",
      "\n",
      "Consumed record from DEALER1_TRUCKS with value {'user': 'Ann Duppstadt', 'rid': '3', 'manufacturer': 'Iveco', 'model': 'Daily', 'plate': 'KMCIOWM', 'status': 'END', 'ts': '2022-01-14 13:51:24'}\n",
      "\n",
      "Consumed record from DEALER1_TRUCKS with value {'user': 'Richard Tillman', 'rid': '9', 'manufacturer': 'Iveco', 'model': 'Daily', 'plate': 'KMCIOWM', 'status': 'START', 'ts': '2022-01-14 13:51:24'}\n",
      "\n",
      "Consumed record from DEALER1_TRUCKS with value {'user': 'Henry Romero', 'rid': '10', 'manufacturer': 'Fiat', 'model': 'Ducato', 'plate': 'JSDJFI3', 'status': 'START', 'ts': '2022-01-14 13:51:24'}\n",
      "\n",
      "Consumed record from DEALER1_TRUCKS with value {'user': 'Hubert Grissett', 'rid': '7', 'manufacturer': 'Iveco', 'model': 'Daily', 'plate': 'HHST532', 'status': 'END', 'ts': '2022-01-14 13:51:24'}\n",
      "\n",
      "Consumed record from DEALER1_TRUCKS with value {'user': 'Henry Romero', 'rid': '6', 'manufacturer': 'Iveco', 'model': 'Daily', 'plate': 'H39DXCO', 'status': 'END', 'ts': '2022-01-14 13:51:24'}\n",
      "\n",
      "Consumed record from DEALER1_TRUCKS with value {'user': 'Richard Tillman', 'rid': '9', 'manufacturer': 'Iveco', 'model': 'Daily', 'plate': 'KMCIOWM', 'status': 'END', 'ts': '2022-01-14 13:51:24'}\n",
      "\n",
      "Consumed record from DEALER1_TRUCKS with value {'user': 'Geneva Crews', 'rid': '11', 'manufacturer': 'Iveco', 'model': 'Daily', 'plate': 'H39DXCO', 'status': 'START', 'ts': '2022-01-14 13:51:24'}\n",
      "\n",
      "Consumed record from DEALER1_TRUCKS with value {'user': 'Geneva Crews', 'rid': '11', 'manufacturer': 'Iveco', 'model': 'Daily', 'plate': 'H39DXCO', 'status': 'END', 'ts': '2022-01-14 13:51:24'}\n",
      "\n",
      "Consumed record from DEALER1_TRUCKS with value {'user': 'Geneva Crews', 'rid': '4', 'manufacturer': 'Iveco', 'model': 'Daily', 'plate': '674GHDF', 'status': 'END', 'ts': '2022-01-14 13:51:24'}\n",
      "\n",
      "Consumed record from DEALER1_TRUCKS with value {'user': 'Henry Romero', 'rid': '10', 'manufacturer': 'Fiat', 'model': 'Ducato', 'plate': 'JSDJFI3', 'status': 'END', 'ts': '2022-01-14 13:51:24'}\n",
      "\n",
      "Consumed record from DEALER1_TRUCKS with value {'user': 'Hubert Grissett', 'rid': '8', 'manufacturer': 'Fiat', 'model': 'Ducato', 'plate': 'DM89JKD', 'status': 'END', 'ts': '2022-01-14 13:51:24'}\n",
      "Waiting . . . . . . . . . . . . . . . . . . . . . . . . . . . . . . . . . . . . . . . . . . . . . . . . . . . . . . . . . . . . . . . . . . . . . . . . . . . . . . . . . . . . . . . . . . . . . . . . . "
     ]
    }
   ],
   "source": [
    "from confluent_kafka import Consumer, KafkaError\n",
    "import json\n",
    "\n",
    "c = Consumer(\n",
    "    {\n",
    "        'bootstrap.servers': 'kafka:9092',\n",
    "        'group.id': 'test',\n",
    "        'auto.offset.reset': 'earliest'\n",
    "    }\n",
    ")\n",
    "\n",
    "c.subscribe([\"DEALER1_CARS\",\"DEALER1_TRUCKS\"])\n",
    "\n",
    "waiting = False\n",
    "\n",
    "try:\n",
    "    while True:\n",
    "        msg = c.poll(1.0)                                        # retrieve records\n",
    "        if msg is None:\n",
    "            if waiting:\n",
    "                print(\".\",end =\" \")\n",
    "            else:\n",
    "                print(\"Waiting\",end =\" \")\n",
    "                waiting = True\n",
    "            continue\n",
    "        elif msg.error():\n",
    "            print('error: {}'.format(msg.error()))\n",
    "            waiting = False\n",
    "        else:\n",
    "            value = json.loads(msg.value())                      # get the value of the message (json.loads)\n",
    "            topic = msg.topic()                               # get the key of the message\n",
    "            print(\"\\nConsumed record from {} with value {}\"\n",
    "                  .format(topic, value))\n",
    "            waiting = False\n",
    "except KeyboardInterrupt:\n",
    "    pass\n",
    "finally:\n",
    "    c.close()  "
   ]
  },
  {
   "cell_type": "code",
   "execution_count": null,
   "id": "5bd02d0e-686e-4825-8dd2-b24f05c53783",
   "metadata": {},
   "outputs": [
    {
     "name": "stdout",
     "output_type": "stream",
     "text": [
      "\n",
      "Consumed record from DEALER2_USERS with value {'userID': '3', 'name': 'Kevin Rodriguez'}\n",
      "\n",
      "Consumed record from DEALER2_USERS with value {'userID': '4', 'name': 'Catherine Crandell'}\n",
      "\n",
      "Consumed record from DEALER2_USERS with value {'userID': '1', 'name': 'Douglas Fitch'}\n",
      "\n",
      "Consumed record from DEALER2_USERS with value {'userID': '2', 'name': 'William Diaz'}\n",
      "\n",
      "Consumed record from DEALER2_USERS with value {'userID': '9', 'name': 'Mark Haws'}\n",
      "\n",
      "Consumed record from DEALER2_USERS with value {'userID': '6', 'name': 'Wayne Flower'}\n",
      "\n",
      "Consumed record from DEALER2_USERS with value {'userID': '7', 'name': 'Laura Baker'}\n",
      "\n",
      "Consumed record from DEALER2_USERS with value {'userID': '8', 'name': 'Jane McPeak'}\n",
      "\n",
      "Consumed record from DEALER2_USERS with value {'userID': '5', 'name': 'Richard Tillman'}\n",
      "\n",
      "Consumed record from DEALER2_USERS with value {'userID': '10', 'name': 'Jeanie Morgan'}\n",
      "\n",
      "Consumed record from DEALER2_VEHICLES with value {'userID': '3', 'type': 'car,', 'manifacturer': 'Audi', 'model': 'A3', 'plate': 'DFU4HJF', 'status': 'START', 'ts': '2022-01-12 20:31:16'}\n",
      "\n",
      "Consumed record from DEALER2_VEHICLES with value {'userID': '4', 'type': 'car', 'manifacturer': 'Audi', 'model': 'A4', 'plate': 'FJK48FJ', 'status': 'START', 'ts': '2022-01-12 20:31:16'}\n",
      "\n",
      "Consumed record from DEALER2_VEHICLES with value {'userID': '1', 'type': 'car', 'manifacturer': 'Porsche', 'model': '911', 'plate': 'UF94JF', 'status': 'START', 'ts': '2022-01-12 20:31:16'}\n",
      "\n",
      "Consumed record from DEALER2_VEHICLES with value {'userID': '2', 'type': 'car', 'manifacturer': 'Audi', 'model': 'A4', 'plate': 'AL3SLS', 'status': 'START', 'ts': '2022-01-12 20:31:16'}\n",
      "\n",
      "Consumed record from DEALER2_VEHICLES with value {'userID': '1', 'type': 'car', 'manifacturer': 'Porsche', 'model': '911', 'plate': 'UF94JF', 'status': 'END', 'ts': '2022-01-12 20:31:16'}\n",
      "\n",
      "Consumed record from DEALER2_VEHICLES with value {'userID': '9', 'type': 'car', 'manifacturer': 'Porsche', 'model': 'Cayenne', 'plate': 'A49CKED', 'status': 'START', 'ts': '2022-01-12 20:31:16'}\n",
      "\n",
      "Consumed record from DEALER2_VEHICLES with value {'userID': '3', 'type': 'car', 'manifacturer': 'Audi', 'model': 'TT', 'plate': '045MDAX', 'status': 'START', 'ts': '2022-01-12 20:31:16'}\n",
      "\n",
      "Consumed record from DEALER2_VEHICLES with value {'userID': '4', 'type': 'car', 'manifacturer': 'Audi', 'model': 'A4', 'plate': 'FJK48FJ', 'status': 'END', 'ts': '2022-01-12 20:31:16'}\n",
      "\n",
      "Consumed record from DEALER2_VEHICLES with value {'userID': '3', 'type': 'truck', 'manifacturer': 'Mercedes', 'model': 'Vito', 'plate': 'KD94KDS', 'status': 'START', 'ts': '2022-01-12 20:31:16'}\n",
      "\n",
      "Consumed record from DEALER2_VEHICLES with value {'userID': '6', 'type': 'truck', 'manifacturer': 'Mercedes', 'model': 'Vito', 'plate': '012JKD0', 'status': 'START', 'ts': '2022-01-12 20:31:16'}\n",
      "\n",
      "Consumed record from DEALER2_VEHICLES with value {'userID': '3', 'type': 'car', 'manifacturer': 'Audi', 'model': 'TT', 'plate': '045MDAX', 'status': 'END', 'ts': '2022-01-12 20:31:16'}\n",
      "\n",
      "Consumed record from DEALER2_VEHICLES with value {'userID': '7', 'type': 'truck', 'manifacturer': 'Mercedes', 'model': 'Citan', 'plate': 'B38SDJA', 'status': 'START', 'ts': '2022-01-12 20:31:16'}\n",
      "\n",
      "Consumed record from DEALER2_VEHICLES with value {'userID': '9', 'type': 'car', 'manifacturer': 'Porsche', 'model': 'Cayenne', 'plate': 'A49CKED', 'status': 'END', 'ts': '2022-01-12 20:31:16'}\n",
      "\n",
      "Consumed record from DEALER2_VEHICLES with value {'userID': '8', 'type': 'car', 'manifacturer': 'Porsche', 'model': 'Cayenne', 'plate': 'A49CKED', 'status': 'START', 'ts': '2022-01-12 20:31:16'}\n",
      "\n",
      "Consumed record from DEALER2_VEHICLES with value {'userID': '5', 'type': 'car', 'manifacturer': 'Audi', 'model': 'TT', 'plate': '045MDAX', 'status': 'START', 'ts': '2022-01-12 20:31:16'}\n",
      "\n",
      "Consumed record from DEALER2_VEHICLES with value {'userID': '3', 'type': 'car,', 'manifacturer': 'Audi', 'model': 'A3', 'plate': 'DFU4HJF', 'status': 'END', 'ts': '2022-01-12 20:31:16'}\n",
      "\n",
      "Consumed record from DEALER2_VEHICLES with value {'userID': '9', 'type': 'car,', 'manifacturer': 'Audi', 'model': 'A3', 'plate': 'DFU4HJF', 'status': 'START', 'ts': '2022-01-12 20:31:16'}\n",
      "\n",
      "Consumed record from DEALER2_VEHICLES with value {'userID': '6', 'type': 'truck', 'manifacturer': 'Mercedes', 'model': 'Vito', 'plate': '012JKD0', 'status': 'END', 'ts': '2022-01-12 20:31:16'}\n",
      "\n",
      "Consumed record from DEALER2_VEHICLES with value {'userID': '10', 'type': 'truck', 'manifacturer': 'Mercedes', 'model': 'Vito', 'plate': '012JKD0', 'status': 'START', 'ts': '2022-01-12 20:31:16'}\n",
      "\n",
      "Consumed record from DEALER2_VEHICLES with value {'userID': '2', 'type': 'car', 'manifacturer': 'Audi', 'model': 'A4', 'plate': 'AL3SLS', 'status': 'END', 'ts': '2022-01-12 20:31:16'}\n",
      "\n",
      "Consumed record from DEALER2_VEHICLES with value {'userID': '3', 'type': 'car', 'manifacturer': 'Porsche', 'model': '911', 'plate': 'UF94JF', 'status': 'START', 'ts': '2022-01-12 20:31:16'}\n",
      "\n",
      "Consumed record from DEALER2_VEHICLES with value {'userID': '10', 'type': 'truck', 'manifacturer': 'Mercedes', 'model': 'Vito', 'plate': '012JKD0', 'status': 'END', 'ts': '2022-01-12 20:31:16'}\n",
      "\n",
      "Consumed record from DEALER2_VEHICLES with value {'userID': '7', 'type': 'truck', 'manifacturer': 'Mercedes', 'model': 'Citan', 'plate': 'B38SDJA', 'status': 'END', 'ts': '2022-01-12 20:31:16'}\n",
      "\n",
      "Consumed record from DEALER2_VEHICLES with value {'userID': '3', 'type': 'truck', 'manifacturer': 'Mercedes', 'model': 'Citan', 'plate': 'B38SDJA', 'status': 'START', 'ts': '2022-01-12 20:31:16'}\n",
      "\n",
      "Consumed record from DEALER2_VEHICLES with value {'userID': '9', 'type': 'car', 'manifacturer': 'Audi', 'model': 'A4', 'plate': 'AL3SLS', 'status': 'START', 'ts': '2022-01-12 20:31:16'}\n",
      "\n",
      "Consumed record from DEALER2_VEHICLES with value {'userID': '9', 'type': 'car,', 'manifacturer': 'Audi', 'model': 'A3', 'plate': 'DFU4HJF', 'status': 'END', 'ts': '2022-01-12 20:31:16'}\n",
      "\n",
      "Consumed record from DEALER2_VEHICLES with value {'userID': '3', 'type': 'truck', 'manifacturer': 'Mercedes', 'model': 'Vito', 'plate': 'KD94KDS', 'status': 'END', 'ts': '2022-01-12 20:31:16'}\n",
      "\n",
      "Consumed record from DEALER2_VEHICLES with value {'userID': '8', 'type': 'car', 'manifacturer': 'Porsche', 'model': 'Cayenne', 'plate': 'A49CKED', 'status': 'END', 'ts': '2022-01-12 20:31:16'}\n",
      "\n",
      "Consumed record from DEALER2_VEHICLES with value {'userID': '1', 'type': 'car', 'manifacturer': 'Porsche', 'model': 'Cayenne', 'plate': 'A49CKED', 'status': 'START', 'ts': '2022-01-12 20:31:16'}\n",
      "\n",
      "Consumed record from DEALER2_VEHICLES with value {'userID': '3', 'type': 'truck', 'manifacturer': 'Mercedes', 'model': 'Citan', 'plate': 'B38SDJA', 'status': 'END', 'ts': '2022-01-12 20:31:16'}\n",
      "\n",
      "Consumed record from DEALER2_VEHICLES with value {'userID': '9', 'type': 'car', 'manifacturer': 'Audi', 'model': 'A4', 'plate': 'AL3SLS', 'status': 'END', 'ts': '2022-01-12 20:31:16'}\n",
      "\n",
      "Consumed record from DEALER2_VEHICLES with value {'userID': '3', 'type': 'car', 'manifacturer': 'Porsche', 'model': '911', 'plate': 'UF94JF', 'status': 'END', 'ts': '2022-01-12 20:31:16'}\n",
      "\n",
      "Consumed record from DEALER2_VEHICLES with value {'userID': '3', 'type': 'car', 'manifacturer': 'Audi', 'model': 'A4', 'plate': 'FJK48FJ', 'status': 'START', 'ts': '2022-01-12 20:31:16'}\n",
      "\n",
      "Consumed record from DEALER2_VEHICLES with value {'userID': '1', 'type': 'car', 'manifacturer': 'Porsche', 'model': 'Cayenne', 'plate': 'A49CKED', 'status': 'END', 'ts': '2022-01-12 20:31:16'}\n",
      "\n",
      "Consumed record from DEALER2_VEHICLES with value {'userID': '4', 'type': 'truck', 'manifacturer': 'Mercedes', 'model': 'Vito', 'plate': 'KD94KDS', 'status': 'START', 'ts': '2022-01-12 20:31:16'}\n",
      "\n",
      "Consumed record from DEALER2_VEHICLES with value {'userID': '3', 'type': 'car', 'manifacturer': 'Audi', 'model': 'A4', 'plate': 'FJK48FJ', 'status': 'END', 'ts': '2022-01-12 20:31:16'}\n",
      "\n",
      "Consumed record from DEALER2_VEHICLES with value {'userID': '4', 'type': 'truck', 'manifacturer': 'Mercedes', 'model': 'Vito', 'plate': 'KD94KDS', 'status': 'END', 'ts': '2022-01-12 20:31:16'}\n",
      "\n",
      "Consumed record from DEALER2_VEHICLES with value {'userID': '5', 'type': 'car', 'manifacturer': 'Audi', 'model': 'TT', 'plate': '045MDAX', 'status': 'END', 'ts': '2022-01-12 20:31:16'}\n",
      "Waiting . . . . . . . . . . . . . . . . . . . . . . . . . . . . . . . . . . . . . . . . . . . . . . . . . . . . . . . . . . . . . . . . . . . . . . . . . . . . . . "
     ]
    },
    {
     "name": "stderr",
     "output_type": "stream",
     "text": [
      "%6|1642019618.288|FAIL|rdkafka#consumer-3| [thrd:GroupCoordinator]: GroupCoordinator: kafka:9092: Disconnected (after 79341ms in state UP)\n",
      "%4|1642019618.289|FAIL|rdkafka#consumer-3| [thrd:kafka:9092/bootstrap]: kafka:9092/1: Disconnected (after 79345ms in state UP)\n",
      "%6|1642019618.290|FAIL|rdkafka#consumer-3| [thrd:kafka:9092/bootstrap]: kafka:9092/1: Disconnected while requesting ApiVersion: might be caused by incorrect security.protocol configuration (connecting to a SSL listener?) or broker version is < 0.10 (see api.version.request) (after 0ms in state APIVERSION_QUERY)\n",
      "%6|1642019618.290|FAIL|rdkafka#consumer-3| [thrd:GroupCoordinator]: GroupCoordinator: kafka:9092: Disconnected (after 1ms in state APIVERSION_QUERY, 1 identical error(s) suppressed)\n",
      "%3|1642019618.808|FAIL|rdkafka#producer-1| [thrd:kafka:9092/bootstrap]: kafka:9092/1: Failed to resolve 'kafka:9092': Name or service not known (after 154ms in state CONNECT)\n"
     ]
    },
    {
     "name": "stdout",
     "output_type": "stream",
     "text": [
      ". . "
     ]
    },
    {
     "name": "stderr",
     "output_type": "stream",
     "text": [
      "%3|1642019620.666|FAIL|rdkafka#producer-1| [thrd:kafka:9092/bootstrap]: kafka:9092/1: Failed to resolve 'kafka:9092': Name or service not known (after 12ms in state CONNECT, 1 identical error(s) suppressed)\n"
     ]
    },
    {
     "name": "stdout",
     "output_type": "stream",
     "text": [
      ". . . . "
     ]
    },
    {
     "name": "stderr",
     "output_type": "stream",
     "text": [
      "%3|1642019624.661|FAIL|rdkafka#producer-1| [thrd:kafka:9092/bootstrap]: kafka:9092/1: Connect to ipv4#172.20.0.6:9092 failed: Connection refused (after 2ms in state CONNECT)\n"
     ]
    },
    {
     "name": "stdout",
     "output_type": "stream",
     "text": [
      ". "
     ]
    },
    {
     "name": "stderr",
     "output_type": "stream",
     "text": [
      "%3|1642019625.582|FAIL|rdkafka#consumer-3| [thrd:kafka:9092/bootstrap]: kafka:9092/1: Connect to ipv4#172.20.0.6:9092 failed: Connection refused (after 7088ms in state CONNECT)\n",
      "%3|1642019625.838|FAIL|rdkafka#consumer-3| [thrd:GroupCoordinator]: GroupCoordinator: kafka:9092: Connect to ipv4#172.20.0.6:9092 failed: Connection refused (after 7301ms in state CONNECT)\n"
     ]
    },
    {
     "name": "stdout",
     "output_type": "stream",
     "text": [
      ". "
     ]
    },
    {
     "name": "stderr",
     "output_type": "stream",
     "text": [
      "%3|1642019626.682|FAIL|rdkafka#consumer-3| [thrd:kafka:9092/bootstrap]: kafka:9092/1: Connect to ipv4#172.20.0.6:9092 failed: Connection refused (after 0ms in state CONNECT, 1 identical error(s) suppressed)\n"
     ]
    },
    {
     "name": "stdout",
     "output_type": "stream",
     "text": [
      ". . . . . . . . . . "
     ]
    },
    {
     "name": "stderr",
     "output_type": "stream",
     "text": [
      "%4|1642019636.991|CLUSTERID|rdkafka#producer-1| [thrd:main]: Broker kafka:9092/1 reports different ClusterId \"RBaGgr35TGmukkRAgxQa9Q\" than previously known \"W3jlvGmzQnyd41Bb0R-l0A\": a client must not be simultaneously connected to multiple clusters\n"
     ]
    },
    {
     "name": "stdout",
     "output_type": "stream",
     "text": [
      ". . "
     ]
    },
    {
     "name": "stderr",
     "output_type": "stream",
     "text": [
      "%5|1642019638.895|PARTCNT|rdkafka#consumer-3| [thrd:main]: Topic DEALER2_USERS partition count changed from 1 to 0\n",
      "%5|1642019638.896|PARTCNT|rdkafka#consumer-3| [thrd:main]: Topic DEALER2_VEHICLES partition count changed from 1 to 0\n",
      "%4|1642019638.896|CLUSTERID|rdkafka#consumer-3| [thrd:main]: Broker kafka:9092/1 reports different ClusterId \"RBaGgr35TGmukkRAgxQa9Q\" than previously known \"W3jlvGmzQnyd41Bb0R-l0A\": a client must not be simultaneously connected to multiple clusters\n"
     ]
    },
    {
     "name": "stdout",
     "output_type": "stream",
     "text": [
      ". . error: KafkaError{code=UNKNOWN_TOPIC_OR_PART,val=3,str=\"Subscribed topic not available: DEALER2_USERS: Broker: Unknown topic or partition\"}\n",
      "error: KafkaError{code=UNKNOWN_TOPIC_OR_PART,val=3,str=\"Subscribed topic not available: DEALER2_VEHICLES: Broker: Unknown topic or partition\"}\n",
      "Waiting . . . . . . . . . . . . . . . . . . . . . \n",
      "Consumed record from DEALER2_USERS with value {'userID': '3', 'name': 'Kevin Rodriguez'}\n",
      "\n",
      "Consumed record from DEALER2_USERS with value {'userID': '4', 'name': 'Catherine Crandell'}\n",
      "\n",
      "Consumed record from DEALER2_USERS with value {'userID': '1', 'name': 'Douglas Fitch'}\n",
      "\n",
      "Consumed record from DEALER2_USERS with value {'userID': '2', 'name': 'William Diaz'}\n",
      "\n",
      "Consumed record from DEALER2_USERS with value {'userID': '9', 'name': 'Mark Haws'}\n",
      "\n",
      "Consumed record from DEALER2_USERS with value {'userID': '6', 'name': 'Wayne Flower'}\n",
      "\n",
      "Consumed record from DEALER2_USERS with value {'userID': '7', 'name': 'Laura Baker'}\n",
      "\n",
      "Consumed record from DEALER2_USERS with value {'userID': '8', 'name': 'Jane McPeak'}\n",
      "\n",
      "Consumed record from DEALER2_USERS with value {'userID': '5', 'name': 'Richard Tillman'}\n",
      "\n",
      "Consumed record from DEALER2_USERS with value {'userID': '10', 'name': 'Jeanie Morgan'}\n",
      "\n",
      "Consumed record from DEALER2_VEHICLES with value {'userID': '3', 'type': 'car,', 'manifacturer': 'Audi', 'model': 'A3', 'plate': 'DFU4HJF', 'status': 'START', 'ts': '2022-01-12 20:34:22'}\n",
      "\n",
      "Consumed record from DEALER2_VEHICLES with value {'userID': '4', 'type': 'car', 'manifacturer': 'Audi', 'model': 'A4', 'plate': 'FJK48FJ', 'status': 'START', 'ts': '2022-01-12 20:34:22'}\n",
      "\n",
      "Consumed record from DEALER2_VEHICLES with value {'userID': '1', 'type': 'car', 'manifacturer': 'Porsche', 'model': '911', 'plate': 'UF94JF', 'status': 'START', 'ts': '2022-01-12 20:34:22'}\n",
      "\n",
      "Consumed record from DEALER2_VEHICLES with value {'userID': '2', 'type': 'car', 'manifacturer': 'Audi', 'model': 'A4', 'plate': 'AL3SLS', 'status': 'START', 'ts': '2022-01-12 20:34:22'}\n",
      "\n",
      "Consumed record from DEALER2_VEHICLES with value {'userID': '1', 'type': 'car', 'manifacturer': 'Porsche', 'model': '911', 'plate': 'UF94JF', 'status': 'END', 'ts': '2022-01-12 20:34:22'}\n",
      "\n",
      "Consumed record from DEALER2_VEHICLES with value {'userID': '9', 'type': 'car', 'manifacturer': 'Porsche', 'model': 'Cayenne', 'plate': 'A49CKED', 'status': 'START', 'ts': '2022-01-12 20:34:22'}\n",
      "\n",
      "Consumed record from DEALER2_VEHICLES with value {'userID': '3', 'type': 'car', 'manifacturer': 'Audi', 'model': 'TT', 'plate': '045MDAX', 'status': 'START', 'ts': '2022-01-12 20:34:22'}\n",
      "\n",
      "Consumed record from DEALER2_VEHICLES with value {'userID': '4', 'type': 'car', 'manifacturer': 'Audi', 'model': 'A4', 'plate': 'FJK48FJ', 'status': 'END', 'ts': '2022-01-12 20:34:22'}\n",
      "\n",
      "Consumed record from DEALER2_VEHICLES with value {'userID': '3', 'type': 'truck', 'manifacturer': 'Mercedes', 'model': 'Vito', 'plate': 'KD94KDS', 'status': 'START', 'ts': '2022-01-12 20:34:22'}\n",
      "\n",
      "Consumed record from DEALER2_VEHICLES with value {'userID': '6', 'type': 'truck', 'manifacturer': 'Mercedes', 'model': 'Vito', 'plate': '012JKD0', 'status': 'START', 'ts': '2022-01-12 20:34:22'}\n",
      "\n",
      "Consumed record from DEALER2_VEHICLES with value {'userID': '3', 'type': 'car', 'manifacturer': 'Audi', 'model': 'TT', 'plate': '045MDAX', 'status': 'END', 'ts': '2022-01-12 20:34:22'}\n",
      "\n",
      "Consumed record from DEALER2_VEHICLES with value {'userID': '7', 'type': 'truck', 'manifacturer': 'Mercedes', 'model': 'Citan', 'plate': 'B38SDJA', 'status': 'START', 'ts': '2022-01-12 20:34:22'}\n",
      "\n",
      "Consumed record from DEALER2_VEHICLES with value {'userID': '9', 'type': 'car', 'manifacturer': 'Porsche', 'model': 'Cayenne', 'plate': 'A49CKED', 'status': 'END', 'ts': '2022-01-12 20:34:22'}\n",
      "\n",
      "Consumed record from DEALER2_VEHICLES with value {'userID': '8', 'type': 'car', 'manifacturer': 'Porsche', 'model': 'Cayenne', 'plate': 'A49CKED', 'status': 'START', 'ts': '2022-01-12 20:34:22'}\n",
      "\n",
      "Consumed record from DEALER2_VEHICLES with value {'userID': '5', 'type': 'car', 'manifacturer': 'Audi', 'model': 'TT', 'plate': '045MDAX', 'status': 'START', 'ts': '2022-01-12 20:34:22'}\n",
      "\n",
      "Consumed record from DEALER2_VEHICLES with value {'userID': '3', 'type': 'car,', 'manifacturer': 'Audi', 'model': 'A3', 'plate': 'DFU4HJF', 'status': 'END', 'ts': '2022-01-12 20:34:22'}\n",
      "\n",
      "Consumed record from DEALER2_VEHICLES with value {'userID': '9', 'type': 'car,', 'manifacturer': 'Audi', 'model': 'A3', 'plate': 'DFU4HJF', 'status': 'START', 'ts': '2022-01-12 20:34:22'}\n",
      "\n",
      "Consumed record from DEALER2_VEHICLES with value {'userID': '6', 'type': 'truck', 'manifacturer': 'Mercedes', 'model': 'Vito', 'plate': '012JKD0', 'status': 'END', 'ts': '2022-01-12 20:34:22'}\n",
      "\n",
      "Consumed record from DEALER2_VEHICLES with value {'userID': '10', 'type': 'truck', 'manifacturer': 'Mercedes', 'model': 'Vito', 'plate': '012JKD0', 'status': 'START', 'ts': '2022-01-12 20:34:22'}\n",
      "\n",
      "Consumed record from DEALER2_VEHICLES with value {'userID': '2', 'type': 'car', 'manifacturer': 'Audi', 'model': 'A4', 'plate': 'AL3SLS', 'status': 'END', 'ts': '2022-01-12 20:34:22'}\n",
      "\n",
      "Consumed record from DEALER2_VEHICLES with value {'userID': '3', 'type': 'car', 'manifacturer': 'Porsche', 'model': '911', 'plate': 'UF94JF', 'status': 'START', 'ts': '2022-01-12 20:34:22'}\n",
      "\n",
      "Consumed record from DEALER2_VEHICLES with value {'userID': '10', 'type': 'truck', 'manifacturer': 'Mercedes', 'model': 'Vito', 'plate': '012JKD0', 'status': 'END', 'ts': '2022-01-12 20:34:22'}\n",
      "\n",
      "Consumed record from DEALER2_VEHICLES with value {'userID': '7', 'type': 'truck', 'manifacturer': 'Mercedes', 'model': 'Citan', 'plate': 'B38SDJA', 'status': 'END', 'ts': '2022-01-12 20:34:22'}\n",
      "\n",
      "Consumed record from DEALER2_VEHICLES with value {'userID': '3', 'type': 'truck', 'manifacturer': 'Mercedes', 'model': 'Citan', 'plate': 'B38SDJA', 'status': 'START', 'ts': '2022-01-12 20:34:22'}\n",
      "\n",
      "Consumed record from DEALER2_VEHICLES with value {'userID': '9', 'type': 'car', 'manifacturer': 'Audi', 'model': 'A4', 'plate': 'AL3SLS', 'status': 'START', 'ts': '2022-01-12 20:34:22'}\n",
      "\n",
      "Consumed record from DEALER2_VEHICLES with value {'userID': '9', 'type': 'car,', 'manifacturer': 'Audi', 'model': 'A3', 'plate': 'DFU4HJF', 'status': 'END', 'ts': '2022-01-12 20:34:22'}\n",
      "\n",
      "Consumed record from DEALER2_VEHICLES with value {'userID': '3', 'type': 'truck', 'manifacturer': 'Mercedes', 'model': 'Vito', 'plate': 'KD94KDS', 'status': 'END', 'ts': '2022-01-12 20:34:22'}\n",
      "\n",
      "Consumed record from DEALER2_VEHICLES with value {'userID': '8', 'type': 'car', 'manifacturer': 'Porsche', 'model': 'Cayenne', 'plate': 'A49CKED', 'status': 'END', 'ts': '2022-01-12 20:34:22'}\n",
      "\n",
      "Consumed record from DEALER2_VEHICLES with value {'userID': '1', 'type': 'car', 'manifacturer': 'Porsche', 'model': 'Cayenne', 'plate': 'A49CKED', 'status': 'START', 'ts': '2022-01-12 20:34:22'}\n",
      "\n",
      "Consumed record from DEALER2_VEHICLES with value {'userID': '3', 'type': 'truck', 'manifacturer': 'Mercedes', 'model': 'Citan', 'plate': 'B38SDJA', 'status': 'END', 'ts': '2022-01-12 20:34:22'}\n",
      "\n",
      "Consumed record from DEALER2_VEHICLES with value {'userID': '9', 'type': 'car', 'manifacturer': 'Audi', 'model': 'A4', 'plate': 'AL3SLS', 'status': 'END', 'ts': '2022-01-12 20:34:22'}\n",
      "\n",
      "Consumed record from DEALER2_VEHICLES with value {'userID': '3', 'type': 'car', 'manifacturer': 'Porsche', 'model': '911', 'plate': 'UF94JF', 'status': 'END', 'ts': '2022-01-12 20:34:22'}\n",
      "\n",
      "Consumed record from DEALER2_VEHICLES with value {'userID': '3', 'type': 'car', 'manifacturer': 'Audi', 'model': 'A4', 'plate': 'FJK48FJ', 'status': 'START', 'ts': '2022-01-12 20:34:22'}\n",
      "\n",
      "Consumed record from DEALER2_VEHICLES with value {'userID': '1', 'type': 'car', 'manifacturer': 'Porsche', 'model': 'Cayenne', 'plate': 'A49CKED', 'status': 'END', 'ts': '2022-01-12 20:34:22'}\n",
      "\n",
      "Consumed record from DEALER2_VEHICLES with value {'userID': '4', 'type': 'truck', 'manifacturer': 'Mercedes', 'model': 'Vito', 'plate': 'KD94KDS', 'status': 'START', 'ts': '2022-01-12 20:34:22'}\n",
      "\n",
      "Consumed record from DEALER2_VEHICLES with value {'userID': '3', 'type': 'car', 'manifacturer': 'Audi', 'model': 'A4', 'plate': 'FJK48FJ', 'status': 'END', 'ts': '2022-01-12 20:34:22'}\n",
      "\n",
      "Consumed record from DEALER2_VEHICLES with value {'userID': '4', 'type': 'truck', 'manifacturer': 'Mercedes', 'model': 'Vito', 'plate': 'KD94KDS', 'status': 'END', 'ts': '2022-01-12 20:34:22'}\n",
      "\n",
      "Consumed record from DEALER2_VEHICLES with value {'userID': '5', 'type': 'car', 'manifacturer': 'Audi', 'model': 'TT', 'plate': '045MDAX', 'status': 'END', 'ts': '2022-01-12 20:34:22'}\n",
      "Waiting . . . . . . . . . . . . . . . . . . . . . . . . . . . . . . . . . . . . . . . . . . . . . . . . . . . . . . . . . . . . . . . . . . . . . . . . . . . . . . . . . . . . . "
     ]
    },
    {
     "name": "stderr",
     "output_type": "stream",
     "text": [
      "%6|1642019748.896|FAIL|rdkafka#consumer-3| [thrd:GroupCoordinator]: GroupCoordinator: kafka:9092: Disconnected (after 108837ms in state UP)\n",
      "%6|1642019748.896|FAIL|rdkafka#consumer-3| [thrd:kafka:9092/bootstrap]: kafka:9092/1: Disconnected (after 110008ms in state UP)\n",
      "%3|1642019748.897|FAIL|rdkafka#consumer-3| [thrd:kafka:9092/bootstrap]: kafka:9092/1: Connect to ipv4#172.20.0.6:9092 failed: Connection refused (after 0ms in state CONNECT)\n",
      "%3|1642019748.897|FAIL|rdkafka#consumer-3| [thrd:GroupCoordinator]: GroupCoordinator: kafka:9092: Connect to ipv4#172.20.0.6:9092 failed: Connection refused (after 0ms in state CONNECT)\n"
     ]
    },
    {
     "name": "stdout",
     "output_type": "stream",
     "text": [
      ". "
     ]
    },
    {
     "name": "stderr",
     "output_type": "stream",
     "text": [
      "%3|1642019749.673|FAIL|rdkafka#producer-1| [thrd:kafka:9092/bootstrap]: kafka:9092/1: Failed to resolve 'kafka:9092': Name or service not known (after 10ms in state CONNECT)\n"
     ]
    },
    {
     "name": "stdout",
     "output_type": "stream",
     "text": [
      ". . "
     ]
    },
    {
     "name": "stderr",
     "output_type": "stream",
     "text": [
      "%3|1642019751.671|FAIL|rdkafka#producer-1| [thrd:kafka:9092/bootstrap]: kafka:9092/1: Failed to resolve 'kafka:9092': Name or service not known (after 8ms in state CONNECT, 1 identical error(s) suppressed)\n"
     ]
    },
    {
     "name": "stdout",
     "output_type": "stream",
     "text": [
      ". . . . "
     ]
    },
    {
     "name": "stderr",
     "output_type": "stream",
     "text": [
      "%3|1642019756.398|FAIL|rdkafka#consumer-3| [thrd:GroupCoordinator]: GroupCoordinator: kafka:9092: Connect to ipv4#172.20.0.6:9092 failed: Connection refused (after 7235ms in state CONNECT, 1 identical error(s) suppressed)\n",
      "%3|1642019756.402|FAIL|rdkafka#consumer-3| [thrd:kafka:9092/bootstrap]: kafka:9092/1: Connect to ipv4#172.20.0.6:9092 failed: Connection refused (after 7277ms in state CONNECT, 1 identical error(s) suppressed)\n"
     ]
    },
    {
     "name": "stdout",
     "output_type": "stream",
     "text": [
      ". "
     ]
    },
    {
     "name": "stderr",
     "output_type": "stream",
     "text": [
      "%3|1642019756.686|FAIL|rdkafka#producer-1| [thrd:kafka:9092/bootstrap]: kafka:9092/1: Connect to ipv4#172.20.0.6:9092 failed: Connection refused (after 1023ms in state CONNECT)\n"
     ]
    },
    {
     "name": "stdout",
     "output_type": "stream",
     "text": [
      ". . . . . . . . . . . "
     ]
    },
    {
     "name": "stderr",
     "output_type": "stream",
     "text": [
      "%4|1642019768.227|CLUSTERID|rdkafka#producer-1| [thrd:main]: Broker kafka:9092/1 reports different ClusterId \"O5oFChJKSlqOxw0Zd85Uhw\" than previously known \"RBaGgr35TGmukkRAgxQa9Q\": a client must not be simultaneously connected to multiple clusters\n"
     ]
    },
    {
     "name": "stdout",
     "output_type": "stream",
     "text": [
      ". "
     ]
    },
    {
     "name": "stderr",
     "output_type": "stream",
     "text": [
      "%5|1642019769.428|PARTCNT|rdkafka#consumer-3| [thrd:main]: Topic DEALER2_USERS partition count changed from 1 to 0\n",
      "%5|1642019769.428|PARTCNT|rdkafka#consumer-3| [thrd:main]: Topic DEALER2_VEHICLES partition count changed from 1 to 0\n",
      "%4|1642019769.430|CLUSTERID|rdkafka#consumer-3| [thrd:main]: Broker kafka:9092/1 reports different ClusterId \"O5oFChJKSlqOxw0Zd85Uhw\" than previously known \"RBaGgr35TGmukkRAgxQa9Q\": a client must not be simultaneously connected to multiple clusters\n"
     ]
    },
    {
     "name": "stdout",
     "output_type": "stream",
     "text": [
      ". error: KafkaError{code=UNKNOWN_TOPIC_OR_PART,val=3,str=\"Subscribed topic not available: DEALER2_USERS: Broker: Unknown topic or partition\"}\n",
      "error: KafkaError{code=UNKNOWN_TOPIC_OR_PART,val=3,str=\"Subscribed topic not available: DEALER2_VEHICLES: Broker: Unknown topic or partition\"}\n",
      "Waiting . . . . . . . . . . . . . . . . . . . . . . . . . . . . . . . . . . . . . . . . . . . . . . . . . . "
     ]
    },
    {
     "name": "stderr",
     "output_type": "stream",
     "text": [
      "%6|1642019821.899|FAIL|rdkafka#consumer-3| [thrd:GroupCoordinator]: GroupCoordinator: kafka:9092: Disconnected (after 51948ms in state UP)\n",
      "%6|1642019821.899|FAIL|rdkafka#producer-1| [thrd:kafka:9092/bootstrap]: kafka:9092/1: Disconnected (after 53684ms in state UP)\n",
      "%6|1642019821.899|FAIL|rdkafka#consumer-3| [thrd:kafka:9092/bootstrap]: kafka:9092/1: Disconnected (after 52478ms in state UP)\n",
      "%3|1642019821.900|FAIL|rdkafka#consumer-3| [thrd:kafka:9092/bootstrap]: kafka:9092/1: Connect to ipv4#172.20.0.6:9092 failed: Connection refused (after 0ms in state CONNECT)\n",
      "%3|1642019821.901|FAIL|rdkafka#consumer-3| [thrd:GroupCoordinator]: GroupCoordinator: kafka:9092: Connect to ipv4#172.20.0.6:9092 failed: Connection refused (after 1ms in state CONNECT)\n",
      "%3|1642019822.117|FAIL|rdkafka#consumer-3| [thrd:GroupCoordinator]: GroupCoordinator: kafka:9092: Connect to ipv4#172.20.0.6:9092 failed: Connection refused (after 0ms in state CONNECT, 1 identical error(s) suppressed)\n",
      "%3|1642019822.144|FAIL|rdkafka#consumer-3| [thrd:kafka:9092/bootstrap]: kafka:9092/1: Connect to ipv4#172.20.0.6:9092 failed: Connection refused (after 0ms in state CONNECT, 1 identical error(s) suppressed)\n"
     ]
    },
    {
     "name": "stdout",
     "output_type": "stream",
     "text": [
      ". "
     ]
    },
    {
     "name": "stderr",
     "output_type": "stream",
     "text": [
      "%3|1642019822.696|FAIL|rdkafka#producer-1| [thrd:kafka:9092/bootstrap]: kafka:9092/1: Failed to resolve 'kafka:9092': Name or service not known (after 32ms in state CONNECT)\n",
      "%3|1642019823.080|FAIL|rdkafka#consumer-3| [thrd:kafka:9092/bootstrap]: kafka:9092/1: Failed to resolve 'kafka:9092': Name or service not known (after 9ms in state CONNECT)\n",
      "%4|1642019823.080|METADATA|rdkafka#consumer-3| [thrd:main]: kafka:9092/1: Metadata request failed: broker down: Local: Host resolution failure (0ms): Permanent\n",
      "%3|1642019823.163|FAIL|rdkafka#consumer-3| [thrd:GroupCoordinator]: GroupCoordinator: kafka:9092: Failed to resolve 'kafka:9092': Name or service not known (after 8ms in state CONNECT)\n"
     ]
    },
    {
     "name": "stdout",
     "output_type": "stream",
     "text": [
      ". . "
     ]
    },
    {
     "name": "stderr",
     "output_type": "stream",
     "text": [
      "%3|1642019824.679|FAIL|rdkafka#producer-1| [thrd:kafka:9092/bootstrap]: kafka:9092/1: Failed to resolve 'kafka:9092': Name or service not known (after 15ms in state CONNECT, 1 identical error(s) suppressed)\n"
     ]
    },
    {
     "name": "stdout",
     "output_type": "stream",
     "text": [
      ". . . "
     ]
    },
    {
     "name": "stderr",
     "output_type": "stream",
     "text": [
      "%3|1642019827.950|FAIL|rdkafka#consumer-3| [thrd:kafka:9092/bootstrap]: kafka:9092/1: Connect to ipv4#172.20.0.6:9092 failed: Connection refused (after 1004ms in state CONNECT)\n"
     ]
    },
    {
     "name": "stdout",
     "output_type": "stream",
     "text": [
      ". "
     ]
    },
    {
     "name": "stderr",
     "output_type": "stream",
     "text": [
      "%3|1642019828.664|FAIL|rdkafka#producer-1| [thrd:kafka:9092/bootstrap]: kafka:9092/1: Connect to ipv4#172.20.0.6:9092 failed: Connection refused (after 0ms in state CONNECT)\n"
     ]
    },
    {
     "name": "stdout",
     "output_type": "stream",
     "text": [
      ". "
     ]
    },
    {
     "name": "stderr",
     "output_type": "stream",
     "text": [
      "%3|1642019829.350|FAIL|rdkafka#consumer-3| [thrd:GroupCoordinator]: GroupCoordinator: kafka:9092: Connect to ipv4#172.20.0.6:9092 failed: Connection refused (after 0ms in state CONNECT)\n"
     ]
    },
    {
     "name": "stdout",
     "output_type": "stream",
     "text": [
      ". . . . . . . . . "
     ]
    },
    {
     "name": "stderr",
     "output_type": "stream",
     "text": [
      "%4|1642019838.883|CLUSTERID|rdkafka#producer-1| [thrd:main]: Broker kafka:9092/1 reports different ClusterId \"ssvyGL-lR56DLcPW_jZ-xQ\" than previously known \"O5oFChJKSlqOxw0Zd85Uhw\": a client must not be simultaneously connected to multiple clusters\n",
      "%4|1642019838.891|CLUSTERID|rdkafka#consumer-3| [thrd:main]: Broker kafka:9092/1 reports different ClusterId \"ssvyGL-lR56DLcPW_jZ-xQ\" than previously known \"O5oFChJKSlqOxw0Zd85Uhw\": a client must not be simultaneously connected to multiple clusters\n"
     ]
    },
    {
     "name": "stdout",
     "output_type": "stream",
     "text": [
      ". . . . . . . . . . . . . . . . . . . . . . . . . . . . . . . . . . . . . . . . . . . . . . . . . . . . . . . . . . . . . . . . . . . . . . . . . . . . . . . . . . . . . . . "
     ]
    },
    {
     "name": "stderr",
     "output_type": "stream",
     "text": [
      "%3|1642019925.996|FAIL|rdkafka#consumer-3| [thrd:kafka:9092/bootstrap]: kafka:9092/1: Send failed: Connection reset by peer (after 87124ms in state UP)\n",
      "%3|1642019926.043|FAIL|rdkafka#consumer-3| [thrd:GroupCoordinator]: GroupCoordinator: kafka:9092: Connect to ipv4#172.20.0.6:9092 failed: Connection refused (after 47ms in state CONNECT)\n",
      "%3|1642019926.114|FAIL|rdkafka#consumer-3| [thrd:kafka:9092/bootstrap]: kafka:9092/1: Connect to ipv4#172.20.0.6:9092 failed: Connection refused (after 118ms in state CONNECT)\n"
     ]
    },
    {
     "name": "stdout",
     "output_type": "stream",
     "text": [
      ". "
     ]
    },
    {
     "name": "stderr",
     "output_type": "stream",
     "text": [
      "%3|1642019926.676|FAIL|rdkafka#producer-1| [thrd:kafka:9092/bootstrap]: kafka:9092/1: Failed to resolve 'kafka:9092': Name or service not known (after 11ms in state CONNECT)\n",
      "%3|1642019927.126|FAIL|rdkafka#consumer-3| [thrd:kafka:9092/bootstrap]: kafka:9092/1: Failed to resolve 'kafka:9092': Name or service not known (after 11ms in state CONNECT)\n",
      "%4|1642019927.126|METADATA|rdkafka#consumer-3| [thrd:main]: kafka:9092/1: Metadata request failed: refresh unavailable topics: Local: Host resolution failure (0ms): Permanent\n",
      "%4|1642019927.126|METADATA|rdkafka#consumer-3| [thrd:main]: kafka:9092/1: Metadata request failed: broker down: Local: Host resolution failure (0ms): Permanent\n"
     ]
    },
    {
     "name": "stdout",
     "output_type": "stream",
     "text": [
      ". . "
     ]
    },
    {
     "name": "stderr",
     "output_type": "stream",
     "text": [
      "%3|1642019928.242|FAIL|rdkafka#consumer-3| [thrd:kafka:9092/bootstrap]: kafka:9092/1: Failed to resolve 'kafka:9092': Name or service not known (after 11ms in state CONNECT, 1 identical error(s) suppressed)\n",
      "%3|1642019928.675|FAIL|rdkafka#producer-1| [thrd:kafka:9092/bootstrap]: kafka:9092/1: Failed to resolve 'kafka:9092': Name or service not known (after 10ms in state CONNECT, 1 identical error(s) suppressed)\n"
     ]
    },
    {
     "name": "stdout",
     "output_type": "stream",
     "text": [
      ". . . . "
     ]
    },
    {
     "name": "stderr",
     "output_type": "stream",
     "text": [
      "%3|1642019932.666|FAIL|rdkafka#producer-1| [thrd:kafka:9092/bootstrap]: kafka:9092/1: Connect to ipv4#172.20.0.6:9092 failed: Connection refused (after 0ms in state CONNECT)\n"
     ]
    },
    {
     "name": "stdout",
     "output_type": "stream",
     "text": [
      ". "
     ]
    },
    {
     "name": "stderr",
     "output_type": "stream",
     "text": [
      "%3|1642019933.266|FAIL|rdkafka#consumer-3| [thrd:kafka:9092/bootstrap]: kafka:9092/1: Connect to ipv4#172.20.0.6:9092 failed: Connection refused (after 1034ms in state CONNECT)\n",
      "%3|1642019933.299|FAIL|rdkafka#consumer-3| [thrd:GroupCoordinator]: GroupCoordinator: kafka:9092: Connect to ipv4#172.20.0.6:9092 failed: Connection refused (after 7062ms in state CONNECT, 1 identical error(s) suppressed)\n"
     ]
    },
    {
     "name": "stdout",
     "output_type": "stream",
     "text": [
      ". . . . . . . . . . . . "
     ]
    },
    {
     "name": "stderr",
     "output_type": "stream",
     "text": [
      "%4|1642019945.306|CLUSTERID|rdkafka#producer-1| [thrd:main]: Broker kafka:9092/1 reports different ClusterId \"aQbqAZPyRWOYMVeUZbNtKQ\" than previously known \"ssvyGL-lR56DLcPW_jZ-xQ\": a client must not be simultaneously connected to multiple clusters\n",
      "%4|1642019945.312|CLUSTERID|rdkafka#consumer-3| [thrd:main]: Broker kafka:9092/1 reports different ClusterId \"aQbqAZPyRWOYMVeUZbNtKQ\" than previously known \"ssvyGL-lR56DLcPW_jZ-xQ\": a client must not be simultaneously connected to multiple clusters\n"
     ]
    },
    {
     "name": "stdout",
     "output_type": "stream",
     "text": [
      ". . . . . . . . . . . . . . . \n",
      "Consumed record from DEALER2_USERS with value {'userID': '3', 'name': 'Kevin Rodriguez'}\n",
      "\n",
      "Consumed record from DEALER2_USERS with value {'userID': '4', 'name': 'Catherine Crandell'}\n",
      "\n",
      "Consumed record from DEALER2_USERS with value {'userID': '1', 'name': 'Douglas Fitch'}\n",
      "\n",
      "Consumed record from DEALER2_USERS with value {'userID': '2', 'name': 'William Diaz'}\n",
      "\n",
      "Consumed record from DEALER2_USERS with value {'userID': '9', 'name': 'Mark Haws'}\n",
      "\n",
      "Consumed record from DEALER2_USERS with value {'userID': '6', 'name': 'Wayne Flower'}\n",
      "\n",
      "Consumed record from DEALER2_USERS with value {'userID': '7', 'name': 'Laura Baker'}\n",
      "\n",
      "Consumed record from DEALER2_USERS with value {'userID': '8', 'name': 'Jane McPeak'}\n",
      "\n",
      "Consumed record from DEALER2_USERS with value {'userID': '5', 'name': 'Richard Tillman'}\n",
      "\n",
      "Consumed record from DEALER2_USERS with value {'userID': '10', 'name': 'Jeanie Morgan'}\n",
      "\n",
      "Consumed record from DEALER2_VEHICLES with value {'userID': '3', 'type': 'car,', 'manifacturer': 'Audi', 'model': 'A3', 'plate': 'DFU4HJF', 'status': 'START', 'ts': '2022-01-12 20:39:20'}\n",
      "\n",
      "Consumed record from DEALER2_VEHICLES with value {'userID': '4', 'type': 'car', 'manifacturer': 'Audi', 'model': 'A4', 'plate': 'FJK48FJ', 'status': 'START', 'ts': '2022-01-12 20:39:20'}\n",
      "\n",
      "Consumed record from DEALER2_VEHICLES with value {'userID': '1', 'type': 'car', 'manifacturer': 'Porsche', 'model': '911', 'plate': 'UF94JF', 'status': 'START', 'ts': '2022-01-12 20:39:20'}\n",
      "\n",
      "Consumed record from DEALER2_VEHICLES with value {'userID': '2', 'type': 'car', 'manifacturer': 'Audi', 'model': 'A4', 'plate': 'AL3SLS', 'status': 'START', 'ts': '2022-01-12 20:39:20'}\n",
      "\n",
      "Consumed record from DEALER2_VEHICLES with value {'userID': '1', 'type': 'car', 'manifacturer': 'Porsche', 'model': '911', 'plate': 'UF94JF', 'status': 'END', 'ts': '2022-01-12 20:39:20'}\n",
      "\n",
      "Consumed record from DEALER2_VEHICLES with value {'userID': '9', 'type': 'car', 'manifacturer': 'Porsche', 'model': 'Cayenne', 'plate': 'A49CKED', 'status': 'START', 'ts': '2022-01-12 20:39:20'}\n",
      "\n",
      "Consumed record from DEALER2_VEHICLES with value {'userID': '3', 'type': 'car', 'manifacturer': 'Audi', 'model': 'TT', 'plate': '045MDAX', 'status': 'START', 'ts': '2022-01-12 20:39:20'}\n",
      "\n",
      "Consumed record from DEALER2_VEHICLES with value {'userID': '4', 'type': 'car', 'manifacturer': 'Audi', 'model': 'A4', 'plate': 'FJK48FJ', 'status': 'END', 'ts': '2022-01-12 20:39:20'}\n",
      "\n",
      "Consumed record from DEALER2_VEHICLES with value {'userID': '3', 'type': 'truck', 'manifacturer': 'Mercedes', 'model': 'Vito', 'plate': 'KD94KDS', 'status': 'START', 'ts': '2022-01-12 20:39:20'}\n",
      "\n",
      "Consumed record from DEALER2_VEHICLES with value {'userID': '6', 'type': 'truck', 'manifacturer': 'Mercedes', 'model': 'Vito', 'plate': '012JKD0', 'status': 'START', 'ts': '2022-01-12 20:39:20'}\n",
      "\n",
      "Consumed record from DEALER2_VEHICLES with value {'userID': '3', 'type': 'car', 'manifacturer': 'Audi', 'model': 'TT', 'plate': '045MDAX', 'status': 'END', 'ts': '2022-01-12 20:39:20'}\n",
      "\n",
      "Consumed record from DEALER2_VEHICLES with value {'userID': '7', 'type': 'truck', 'manifacturer': 'Mercedes', 'model': 'Citan', 'plate': 'B38SDJA', 'status': 'START', 'ts': '2022-01-12 20:39:20'}\n",
      "\n",
      "Consumed record from DEALER2_VEHICLES with value {'userID': '9', 'type': 'car', 'manifacturer': 'Porsche', 'model': 'Cayenne', 'plate': 'A49CKED', 'status': 'END', 'ts': '2022-01-12 20:39:20'}\n",
      "\n",
      "Consumed record from DEALER2_VEHICLES with value {'userID': '8', 'type': 'car', 'manifacturer': 'Porsche', 'model': 'Cayenne', 'plate': 'A49CKED', 'status': 'START', 'ts': '2022-01-12 20:39:20'}\n",
      "\n",
      "Consumed record from DEALER2_VEHICLES with value {'userID': '5', 'type': 'car', 'manifacturer': 'Audi', 'model': 'TT', 'plate': '045MDAX', 'status': 'START', 'ts': '2022-01-12 20:39:21'}\n",
      "\n",
      "Consumed record from DEALER2_VEHICLES with value {'userID': '3', 'type': 'car,', 'manifacturer': 'Audi', 'model': 'A3', 'plate': 'DFU4HJF', 'status': 'END', 'ts': '2022-01-12 20:39:21'}\n",
      "\n",
      "Consumed record from DEALER2_VEHICLES with value {'userID': '9', 'type': 'car,', 'manifacturer': 'Audi', 'model': 'A3', 'plate': 'DFU4HJF', 'status': 'START', 'ts': '2022-01-12 20:39:21'}\n",
      "\n",
      "Consumed record from DEALER2_VEHICLES with value {'userID': '6', 'type': 'truck', 'manifacturer': 'Mercedes', 'model': 'Vito', 'plate': '012JKD0', 'status': 'END', 'ts': '2022-01-12 20:39:21'}\n",
      "\n",
      "Consumed record from DEALER2_VEHICLES with value {'userID': '10', 'type': 'truck', 'manifacturer': 'Mercedes', 'model': 'Vito', 'plate': '012JKD0', 'status': 'START', 'ts': '2022-01-12 20:39:21'}\n",
      "\n",
      "Consumed record from DEALER2_VEHICLES with value {'userID': '2', 'type': 'car', 'manifacturer': 'Audi', 'model': 'A4', 'plate': 'AL3SLS', 'status': 'END', 'ts': '2022-01-12 20:39:21'}\n",
      "\n",
      "Consumed record from DEALER2_VEHICLES with value {'userID': '3', 'type': 'car', 'manifacturer': 'Porsche', 'model': '911', 'plate': 'UF94JF', 'status': 'START', 'ts': '2022-01-12 20:39:21'}\n",
      "\n",
      "Consumed record from DEALER2_VEHICLES with value {'userID': '10', 'type': 'truck', 'manifacturer': 'Mercedes', 'model': 'Vito', 'plate': '012JKD0', 'status': 'END', 'ts': '2022-01-12 20:39:21'}\n",
      "\n",
      "Consumed record from DEALER2_VEHICLES with value {'userID': '7', 'type': 'truck', 'manifacturer': 'Mercedes', 'model': 'Citan', 'plate': 'B38SDJA', 'status': 'END', 'ts': '2022-01-12 20:39:21'}\n",
      "\n",
      "Consumed record from DEALER2_VEHICLES with value {'userID': '3', 'type': 'truck', 'manifacturer': 'Mercedes', 'model': 'Citan', 'plate': 'B38SDJA', 'status': 'START', 'ts': '2022-01-12 20:39:21'}\n",
      "\n",
      "Consumed record from DEALER2_VEHICLES with value {'userID': '9', 'type': 'car', 'manifacturer': 'Audi', 'model': 'A4', 'plate': 'AL3SLS', 'status': 'START', 'ts': '2022-01-12 20:39:21'}\n",
      "\n",
      "Consumed record from DEALER2_VEHICLES with value {'userID': '9', 'type': 'car,', 'manifacturer': 'Audi', 'model': 'A3', 'plate': 'DFU4HJF', 'status': 'END', 'ts': '2022-01-12 20:39:21'}\n",
      "\n",
      "Consumed record from DEALER2_VEHICLES with value {'userID': '3', 'type': 'truck', 'manifacturer': 'Mercedes', 'model': 'Vito', 'plate': 'KD94KDS', 'status': 'END', 'ts': '2022-01-12 20:39:21'}\n",
      "\n",
      "Consumed record from DEALER2_VEHICLES with value {'userID': '8', 'type': 'car', 'manifacturer': 'Porsche', 'model': 'Cayenne', 'plate': 'A49CKED', 'status': 'END', 'ts': '2022-01-12 20:39:21'}\n",
      "\n",
      "Consumed record from DEALER2_VEHICLES with value {'userID': '1', 'type': 'car', 'manifacturer': 'Porsche', 'model': 'Cayenne', 'plate': 'A49CKED', 'status': 'START', 'ts': '2022-01-12 20:39:21'}\n",
      "\n",
      "Consumed record from DEALER2_VEHICLES with value {'userID': '3', 'type': 'truck', 'manifacturer': 'Mercedes', 'model': 'Citan', 'plate': 'B38SDJA', 'status': 'END', 'ts': '2022-01-12 20:39:21'}\n",
      "\n",
      "Consumed record from DEALER2_VEHICLES with value {'userID': '9', 'type': 'car', 'manifacturer': 'Audi', 'model': 'A4', 'plate': 'AL3SLS', 'status': 'END', 'ts': '2022-01-12 20:39:21'}\n",
      "\n",
      "Consumed record from DEALER2_VEHICLES with value {'userID': '3', 'type': 'car', 'manifacturer': 'Porsche', 'model': '911', 'plate': 'UF94JF', 'status': 'END', 'ts': '2022-01-12 20:39:21'}\n",
      "\n",
      "Consumed record from DEALER2_VEHICLES with value {'userID': '3', 'type': 'car', 'manifacturer': 'Audi', 'model': 'A4', 'plate': 'FJK48FJ', 'status': 'START', 'ts': '2022-01-12 20:39:21'}\n",
      "\n",
      "Consumed record from DEALER2_VEHICLES with value {'userID': '1', 'type': 'car', 'manifacturer': 'Porsche', 'model': 'Cayenne', 'plate': 'A49CKED', 'status': 'END', 'ts': '2022-01-12 20:39:21'}\n",
      "\n",
      "Consumed record from DEALER2_VEHICLES with value {'userID': '4', 'type': 'truck', 'manifacturer': 'Mercedes', 'model': 'Vito', 'plate': 'KD94KDS', 'status': 'START', 'ts': '2022-01-12 20:39:21'}\n",
      "\n",
      "Consumed record from DEALER2_VEHICLES with value {'userID': '3', 'type': 'car', 'manifacturer': 'Audi', 'model': 'A4', 'plate': 'FJK48FJ', 'status': 'END', 'ts': '2022-01-12 20:39:21'}\n",
      "\n",
      "Consumed record from DEALER2_VEHICLES with value {'userID': '4', 'type': 'truck', 'manifacturer': 'Mercedes', 'model': 'Vito', 'plate': 'KD94KDS', 'status': 'END', 'ts': '2022-01-12 20:39:21'}\n",
      "\n",
      "Consumed record from DEALER2_VEHICLES with value {'userID': '5', 'type': 'car', 'manifacturer': 'Audi', 'model': 'TT', 'plate': '045MDAX', 'status': 'END', 'ts': '2022-01-12 20:39:21'}\n",
      "Waiting . . . . . . . . . . . . . . . . . . . . . . . . . . . . . . . . . . . . . . . . . . . . . . . . . . . . . . . . . . . . . . . . . . . . . . . . . . . . . . . . . . . . . . . . . . . . . . . . . . . . . . . . . . . . . . . . . . . . . . . . . . . . . . . . . . . . . . . . . . . . . . . . . . . . . . . . . . . . . . . . . . . . . . . . . . . . . . . . . . . . . . . . . . . . . . . . . . . . . . . . . . . . . . . . . . . . . . . . . . . . . . . . . . . . . . . . . . . . . . . . . . . . . . . . . . . . . . . . . . . . . . . . . . . . . . . . . . . . . . . . . . . . . . . . . . . . . . . . . . . . . . . . . . . . . . . . . . . . . . . . . . . . . . . . . . . . . . . . . . . . . . . . . . . . . . . . . . . . . . . . . . . . . . . . . . . . . . . . . . . . . . . . . . . . . . . . . . . . . . . . . . . . . . . . . . . . . . . . . . . . . . . . . . . . . . . . . . . . . . . . . . . . . . . . . . . . . . . . . . . . . . . . . . . . . . . . . . . . . . . . . . . . . . . . . . . . . . . . . . . . . . . . . . . . . . . . . . . . . . . . . . . . . . . . . . . . . . . . . . . . . . . . . . . . . . . . . . . . . . . . . . . . . . . . . . . . . . . . . . . . . . . . . . . . . . . . . . . . . . . . . . . . . . . . . . . . . . . . . . . . . . . . . . . . . . . . . . . . . . . . . . . . . . . . . . . . . . . . . . . . . . . . . . . . . . . . . . . . . . . . . . . . . . . . . . . . . . . . . . . . . . . . . . . . . . . . . . . . . . . . . . . . . . . . . . . . . . . . . . . . . . . . . . . . . . . . . . . . . . . . . . . . . . . . . . . . . . . . . . . . . . . . . . . . . . . . . . . . . . . . . . . . . . . . . . . . . . . . . . . . . . . . . . . . . . . . . . . . . . . . . . . . . . . . . . . . . . . . . . . . . . . . . . . . . . . . . . . . . . . . . . . . . . . . . . . . . . . . . . . . . . . . . . . . . . . "
     ]
    }
   ],
   "source": [
    "from confluent_kafka import Consumer, KafkaError\n",
    "import json\n",
    "\n",
    "c = Consumer(\n",
    "    {\n",
    "        'bootstrap.servers': 'kafka:9092',\n",
    "        'group.id': 'test',\n",
    "        'auto.offset.reset': 'earliest'\n",
    "    }\n",
    ")\n",
    "\n",
    "c.subscribe([\"DEALER2_VEHICLES\",\"DEALER2_USERS\"])\n",
    "\n",
    "waiting = False\n",
    "\n",
    "try:\n",
    "    while True:\n",
    "        msg = c.poll(1.0)                                        # retrieve records\n",
    "        if msg is None:\n",
    "            if waiting:\n",
    "                print(\".\",end =\" \")\n",
    "            else:\n",
    "                print(\"Waiting\",end =\" \")\n",
    "                waiting = True\n",
    "            continue\n",
    "        elif msg.error():\n",
    "            print('error: {}'.format(msg.error()))\n",
    "            waiting = False\n",
    "        else:\n",
    "            value = json.loads(msg.value())                      # get the value of the message (json.loads)\n",
    "            topic = msg.topic()                               # get the key of the message\n",
    "            print(\"\\nConsumed record from {} with value {}\"\n",
    "                  .format(topic, value))\n",
    "            waiting = False\n",
    "except KeyboardInterrupt:\n",
    "    pass\n",
    "finally:\n",
    "    c.close()  "
   ]
  },
  {
   "cell_type": "code",
   "execution_count": null,
   "id": "fc6525ee-8541-4aac-9683-1e137b9c3d3c",
   "metadata": {},
   "outputs": [],
   "source": []
  }
 ],
 "metadata": {
  "kernelspec": {
   "display_name": "Python 3 (ipykernel)",
   "language": "python",
   "name": "python3"
  },
  "language_info": {
   "codemirror_mode": {
    "name": "ipython",
    "version": 3
   },
   "file_extension": ".py",
   "mimetype": "text/x-python",
   "name": "python",
   "nbconvert_exporter": "python",
   "pygments_lexer": "ipython3",
   "version": "3.9.7"
  }
 },
 "nbformat": 4,
 "nbformat_minor": 5
}
