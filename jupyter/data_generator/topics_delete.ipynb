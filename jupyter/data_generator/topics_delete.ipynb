{
 "cells": [
  {
   "cell_type": "code",
   "execution_count": null,
   "id": "b52001a0-903c-447d-8c71-2c10bb2853a4",
   "metadata": {},
   "outputs": [],
   "source": [
    "pip install confluent_kafka --quiet"
   ]
  },
  {
   "cell_type": "markdown",
   "id": "227c69a1-575e-416e-9df2-d16e7ddc95a3",
   "metadata": {},
   "source": [
    "This notebook should be used to delete the Kafka topics before re-starting the data generators"
   ]
  },
  {
   "cell_type": "code",
   "execution_count": null,
   "id": "cac6c55e-2b76-4202-858f-755af42b713d",
   "metadata": {},
   "outputs": [],
   "source": [
    "from confluent_kafka import Producer, KafkaError\n",
    "from confluent_kafka.admin import AdminClient, NewTopic, NewPartitions\n",
    "import json\n",
    "\n",
    "admin_client = AdminClient({'bootstrap.servers': 'kafka:9092'})"
   ]
  },
  {
   "cell_type": "code",
   "execution_count": null,
   "id": "70de8409-fc65-47cb-b7ce-8a8676d9721e",
   "metadata": {},
   "outputs": [],
   "source": [
    "fs = admin_client.delete_topics([\"DEALER1_TRUCKS\",\"DEALER2_USERS\",\"DEALER1_CARS\",\"DEALER2_VEHICLES\"], operation_timeout=30)\n",
    "\n",
    "# Wait for operation to finish.\n",
    "for topic, f in fs.items():\n",
    "    try:\n",
    "        f.result()  # The result itself is None\n",
    "        print(\"Topic {} deleted\".format(topic))\n",
    "    except Exception as e:\n",
    "        print(\"Failed to delete topic {}: {}\".format(topic, e))"
   ]
  },
  {
   "cell_type": "code",
   "execution_count": null,
   "id": "1eca3bad-ab8e-42c8-9582-e4a6d4ee43d2",
   "metadata": {},
   "outputs": [],
   "source": []
  }
 ],
 "metadata": {
  "kernelspec": {
   "display_name": "Python 3 (ipykernel)",
   "language": "python",
   "name": "python3"
  },
  "language_info": {
   "codemirror_mode": {
    "name": "ipython",
    "version": 3
   },
   "file_extension": ".py",
   "mimetype": "text/x-python",
   "name": "python",
   "nbconvert_exporter": "python",
   "pygments_lexer": "ipython3",
   "version": "3.9.7"
  }
 },
 "nbformat": 4,
 "nbformat_minor": 5
}
