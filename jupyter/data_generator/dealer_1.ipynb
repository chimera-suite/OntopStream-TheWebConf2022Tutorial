{
 "cells": [
  {
   "cell_type": "markdown",
   "metadata": {
    "tags": []
   },
   "source": [
    "# Kafka Producer: dealer #1"
   ]
  },
  {
   "cell_type": "code",
   "execution_count": 1,
   "metadata": {},
   "outputs": [
    {
     "name": "stdout",
     "output_type": "stream",
     "text": [
      "Note: you may need to restart the kernel to use updated packages.\n"
     ]
    }
   ],
   "source": [
    "pip install confluent_kafka --quiet"
   ]
  },
  {
   "cell_type": "code",
   "execution_count": 2,
   "metadata": {},
   "outputs": [
    {
     "name": "stdout",
     "output_type": "stream",
     "text": [
      "Topic DEALER1_CARS created\n",
      "Topic DEALER1_TRUCKS created\n"
     ]
    }
   ],
   "source": [
    "from confluent_kafka import Producer, KafkaError\n",
    "from confluent_kafka.admin import AdminClient, NewTopic, NewPartitions\n",
    "import string\n",
    "\n",
    "topic_cars = \"DEALER1_CARS\"\n",
    "topic_trucks = \"DEALER1_TRUCKS\"\n",
    "\n",
    "a = AdminClient({'bootstrap.servers': 'kafka:9092'})\n",
    "fs = a.create_topics([NewTopic(topic_cars, num_partitions=1, replication_factor=1),\n",
    "                      NewTopic(topic_trucks, num_partitions=1, replication_factor=1)])\n",
    "\n",
    "for t, f in fs.items():\n",
    "    try:\n",
    "        f.result()  # The result itself is None\n",
    "        print(\"Topic {} created\".format(t))\n",
    "    except Exception as e:\n",
    "        print(\"Failed to create topic {}: {}\".format(t, e))"
   ]
  },
  {
   "cell_type": "markdown",
   "metadata": {},
   "source": [
    "Generate and publish a new topic message every 10 seconds."
   ]
  },
  {
   "cell_type": "code",
   "execution_count": 3,
   "metadata": {},
   "outputs": [],
   "source": [
    "producerconf = {'bootstrap.servers': 'kafka:9092'}\n",
    "prod = Producer(producerconf)"
   ]
  },
  {
   "cell_type": "code",
   "execution_count": null,
   "metadata": {},
   "outputs": [
    {
     "name": "stdout",
     "output_type": "stream",
     "text": [
      "CAR: {'user': 'Molly Davis', 'rid': '1', 'manufacturer': 'Fiat', 'model': 'Panda', 'plate': 'FJ7PUJJ', 'status': 'START', 'ts': '2022-01-14 15:50:06'}\n",
      "TRUCK: {'user': 'Laura Baker', 'rid': '1', 'manufacturer': 'Iveco', 'model': 'Daily', 'plate': 'HHST532', 'status': 'START', 'ts': '2022-01-14 15:50:16'}\n",
      "CAR: {'user': 'Laura Baker', 'rid': '2', 'manufacturer': 'Tesla', 'model': 'Model S', 'plate': 'JFGJ60A', 'status': 'START', 'ts': '2022-01-14 15:50:32'}\n",
      "TRUCK: {'user': 'Wayne Flower', 'rid': '2', 'manufacturer': 'Fiat', 'model': 'Ducato', 'plate': 'DM89JKD', 'status': 'START', 'ts': '2022-01-14 15:50:56'}\n",
      "CAR: {'user': 'William Diaz', 'rid': '3', 'manufacturer': 'Fiat', 'model': 'Tipo', 'plate': 'FGL1X62', 'status': 'START', 'ts': '2022-01-14 15:51:19'}\n",
      "TRUCK: {'user': 'Ann Duppstadt', 'rid': '3', 'manufacturer': 'Iveco', 'model': 'Daily', 'plate': 'KMCIOWM', 'status': 'START', 'ts': '2022-01-14 15:51:31'}\n",
      "TRUCK: {'user': 'Geneva Crews', 'rid': '4', 'manufacturer': 'Iveco', 'model': 'Daily', 'plate': '674GHDF', 'status': 'START', 'ts': '2022-01-14 15:51:42'}\n",
      "TRUCK: {'user': 'Richard Tillman', 'rid': '5', 'manufacturer': 'Fiat', 'model': 'Ducato', 'plate': 'JSDJFI3', 'status': 'START', 'ts': '2022-01-14 15:52:01'}\n",
      "CAR: {'user': 'Molly Davis', 'rid': '1', 'manufacturer': 'Fiat', 'model': 'Panda', 'plate': 'FJ7PUJJ', 'status': 'END', 'ts': '2022-01-14 15:52:13'}\n",
      "CAR: {'user': 'William Diaz', 'rid': '3', 'manufacturer': 'Fiat', 'model': 'Tipo', 'plate': 'FGL1X62', 'status': 'END', 'ts': '2022-01-14 15:52:23'}\n",
      "TRUCK: {'user': 'Henry Romero', 'rid': '6', 'manufacturer': 'Iveco', 'model': 'Daily', 'plate': 'H39DXCO', 'status': 'START', 'ts': '2022-01-14 15:52:33'}\n",
      "CAR: {'user': 'Hubert Grissett', 'rid': '4', 'manufacturer': 'Fiat', 'model': 'Tipo', 'plate': 'H3NP56Y', 'status': 'START', 'ts': '2022-01-14 15:52:58'}\n",
      "TRUCK: {'user': 'Richard Tillman', 'rid': '5', 'manufacturer': 'Fiat', 'model': 'Ducato', 'plate': 'JSDJFI3', 'status': 'END', 'ts': '2022-01-14 15:53:24'}\n",
      "TRUCK: {'user': 'Wayne Flower', 'rid': '2', 'manufacturer': 'Fiat', 'model': 'Ducato', 'plate': 'DM89JKD', 'status': 'END', 'ts': '2022-01-14 15:53:37'}\n",
      "TRUCK: {'user': 'Laura Baker', 'rid': '1', 'manufacturer': 'Iveco', 'model': 'Daily', 'plate': 'HHST532', 'status': 'END', 'ts': '2022-01-14 15:54:02'}\n",
      "CAR: {'user': 'Douglas Fitch', 'rid': '5', 'manufacturer': 'Tesla', 'model': 'Model X', 'plate': 'DR7TGF0', 'status': 'START', 'ts': '2022-01-14 15:54:24'}\n",
      "TRUCK: {'user': 'Hubert Grissett', 'rid': '7', 'manufacturer': 'Iveco', 'model': 'Daily', 'plate': 'HHST532', 'status': 'START', 'ts': '2022-01-14 15:54:45'}\n",
      "CAR: {'user': 'Robert Shake', 'rid': '6', 'manufacturer': 'Fiat', 'model': 'Tipo', 'plate': 'G16MEAR', 'status': 'START', 'ts': '2022-01-14 15:54:59'}\n",
      "TRUCK: {'user': 'Hubert Grissett', 'rid': '8', 'manufacturer': 'Fiat', 'model': 'Ducato', 'plate': 'DM89JKD', 'status': 'START', 'ts': '2022-01-14 15:55:20'}\n",
      "TRUCK: {'user': 'Ann Duppstadt', 'rid': '3', 'manufacturer': 'Iveco', 'model': 'Daily', 'plate': 'KMCIOWM', 'status': 'END', 'ts': '2022-01-14 15:55:43'}\n",
      "CAR: {'user': 'Laura Baker', 'rid': '2', 'manufacturer': 'Tesla', 'model': 'Model S', 'plate': 'JFGJ60A', 'status': 'END', 'ts': '2022-01-14 15:56:07'}\n",
      "CAR: {'user': 'Lucille Bouchard', 'rid': '7', 'manufacturer': 'Tesla', 'model': 'Model X', 'plate': '8NMSMII', 'status': 'START', 'ts': '2022-01-14 15:56:30'}\n",
      "CAR: {'user': 'Douglas Fitch', 'rid': '8', 'manufacturer': 'Tesla', 'model': 'Model Y', 'plate': 'AB7TGX0', 'status': 'START', 'ts': '2022-01-14 15:56:56'}\n",
      "TRUCK: {'user': 'Richard Tillman', 'rid': '9', 'manufacturer': 'Iveco', 'model': 'Daily', 'plate': 'KMCIOWM', 'status': 'START', 'ts': '2022-01-14 15:57:19'}\n",
      "TRUCK: {'user': 'Henry Romero', 'rid': '10', 'manufacturer': 'Fiat', 'model': 'Ducato', 'plate': 'JSDJFI3', 'status': 'START', 'ts': '2022-01-14 15:57:34'}\n",
      "TRUCK: {'user': 'Hubert Grissett', 'rid': '7', 'manufacturer': 'Iveco', 'model': 'Daily', 'plate': 'HHST532', 'status': 'END', 'ts': '2022-01-14 15:57:54'}\n",
      "TRUCK: {'user': 'Henry Romero', 'rid': '6', 'manufacturer': 'Iveco', 'model': 'Daily', 'plate': 'H39DXCO', 'status': 'END', 'ts': '2022-01-14 15:58:20'}\n",
      "CAR: {'user': 'Laura Baker', 'rid': '9', 'manufacturer': 'Fiat', 'model': 'Panda', 'plate': 'FJ7PUJJ', 'status': 'START', 'ts': '2022-01-14 15:58:43'}\n",
      "CAR: {'user': 'Frank Cover', 'rid': '10', 'manufacturer': 'Tesla', 'model': 'Model S', 'plate': 'JFGJ60A', 'status': 'START', 'ts': '2022-01-14 15:59:07'}\n",
      "CAR: {'user': 'Wanda Carver', 'rid': '11', 'manufacturer': 'Fiat', 'model': 'Tipo', 'plate': 'FGL1X62', 'status': 'START', 'ts': '2022-01-14 15:59:34'}\n",
      "CAR: {'user': 'Frank Cover', 'rid': '10', 'manufacturer': 'Tesla', 'model': 'Model S', 'plate': 'JFGJ60A', 'status': 'END', 'ts': '2022-01-14 15:59:48'}\n",
      "CAR: {'user': 'Hubert Grissett', 'rid': '4', 'manufacturer': 'Fiat', 'model': 'Tipo', 'plate': 'H3NP56Y', 'status': 'END', 'ts': '2022-01-14 16:00:06'}\n",
      "CAR: {'user': 'Mayme Jones', 'rid': '12', 'manufacturer': 'Fiat', 'model': 'Tipo', 'plate': 'H3NP56Y', 'status': 'START', 'ts': '2022-01-14 16:00:29'}\n",
      "TRUCK: {'user': 'Richard Tillman', 'rid': '9', 'manufacturer': 'Iveco', 'model': 'Daily', 'plate': 'KMCIOWM', 'status': 'END', 'ts': '2022-01-14 16:00:46'}\n",
      "CAR: {'user': 'Douglas Fitch', 'rid': '13', 'manufacturer': 'Tesla', 'model': 'Model X', 'plate': 'RT5Y6ZX', 'status': 'START', 'ts': '2022-01-14 16:01:05'}\n",
      "CAR: {'user': 'Douglas Fitch', 'rid': '14', 'manufacturer': 'Tesla', 'model': 'Model X', 'plate': 'ADFTR34', 'status': 'START', 'ts': '2022-01-14 16:01:21'}\n",
      "TRUCK: {'user': 'Geneva Crews', 'rid': '11', 'manufacturer': 'Iveco', 'model': 'Daily', 'plate': 'H39DXCO', 'status': 'START', 'ts': '2022-01-14 16:01:31'}\n",
      "TRUCK: {'user': 'Geneva Crews', 'rid': '11', 'manufacturer': 'Iveco', 'model': 'Daily', 'plate': 'H39DXCO', 'status': 'END', 'ts': '2022-01-14 16:02:00'}\n",
      "CAR: {'user': 'Mayme Jones', 'rid': '12', 'manufacturer': 'Fiat', 'model': 'Tipo', 'plate': 'H3NP56Y', 'status': 'END', 'ts': '2022-01-14 16:02:12'}\n",
      "TRUCK: {'user': 'Geneva Crews', 'rid': '4', 'manufacturer': 'Iveco', 'model': 'Daily', 'plate': '674GHDF', 'status': 'END', 'ts': '2022-01-14 16:02:27'}\n",
      "CAR: {'user': 'Robert Shake', 'rid': '6', 'manufacturer': 'Fiat', 'model': 'Tipo', 'plate': 'G16MEAR', 'status': 'END', 'ts': '2022-01-14 16:02:43'}\n",
      "TRUCK: {'user': 'Henry Romero', 'rid': '10', 'manufacturer': 'Fiat', 'model': 'Ducato', 'plate': 'JSDJFI3', 'status': 'END', 'ts': '2022-01-14 16:02:57'}\n",
      "CAR: {'user': 'William Diaz', 'rid': '15', 'manufacturer': 'Fiat', 'model': 'Tipo', 'plate': 'G16MEAR', 'status': 'START', 'ts': '2022-01-14 16:03:15'}\n",
      "TRUCK: {'user': 'Hubert Grissett', 'rid': '8', 'manufacturer': 'Fiat', 'model': 'Ducato', 'plate': 'DM89JKD', 'status': 'END', 'ts': '2022-01-14 16:03:28'}\n"
     ]
    }
   ],
   "source": [
    "from csv import DictReader\n",
    "from datetime import datetime\n",
    "import time\n",
    "import random\n",
    "import json\n",
    "\n",
    "cars = iter(DictReader(open('cars.csv', 'r')))\n",
    "trucks = iter(DictReader(open('trucks.csv', 'r')))\n",
    "\n",
    "carEnd=False\n",
    "truckEnd=False\n",
    "\n",
    "while carEnd==False or truckEnd==False:\n",
    "    \n",
    "    date_time = datetime.now().strftime(\"%Y-%m-%d %H:%M:%S\")\n",
    "    \n",
    "    if random.randint(0,1) == 0: # Cars\n",
    "        car = next(cars, None)\n",
    "        if car is not None:\n",
    "            car['ts'] = date_time\n",
    "            print(\"CAR: {}\".format(car))\n",
    "            prod.produce(topic=topic_cars, value=json.dumps(car))\n",
    "        else:\n",
    "            carEnd=True\n",
    "    else: # Trucks\n",
    "        truck = next(trucks, None)\n",
    "        if truck is not None:\n",
    "            truck['ts'] = date_time\n",
    "            print(\"TRUCK: {}\".format(truck))\n",
    "            prod.produce(topic=topic_trucks, value=json.dumps(truck))\n",
    "        else:\n",
    "            truckEnd=True\n",
    "    \n",
    "    # Random data generation\n",
    "    time.sleep(random.randint(10,30))"
   ]
  },
  {
   "cell_type": "code",
   "execution_count": null,
   "metadata": {},
   "outputs": [],
   "source": []
  }
 ],
 "metadata": {
  "kernelspec": {
   "display_name": "Python 3 (ipykernel)",
   "language": "python",
   "name": "python3"
  },
  "language_info": {
   "codemirror_mode": {
    "name": "ipython",
    "version": 3
   },
   "file_extension": ".py",
   "mimetype": "text/x-python",
   "name": "python",
   "nbconvert_exporter": "python",
   "pygments_lexer": "ipython3",
   "version": "3.9.7"
  }
 },
 "nbformat": 4,
 "nbformat_minor": 4
}
