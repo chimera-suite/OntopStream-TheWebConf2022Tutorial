{
 "cells": [
  {
   "cell_type": "code",
   "execution_count": null,
   "id": "881e07f1-8bbc-4a10-a319-b9e334859f1a",
   "metadata": {},
   "outputs": [],
   "source": [
    "pip install confluent_kafka --quiet"
   ]
  },
  {
   "cell_type": "markdown",
   "id": "03e4518d-2d86-472a-93b6-bcf2d7eac55b",
   "metadata": {},
   "source": [
    "This notebook can be used to check the Kafka topics..."
   ]
  },
  {
   "cell_type": "code",
   "execution_count": null,
   "id": "3a914c86-65f6-412e-bfc6-948aef34f99c",
   "metadata": {},
   "outputs": [],
   "source": [
    "from confluent_kafka import Producer, KafkaError\n",
    "from confluent_kafka.admin import AdminClient, NewTopic, NewPartitions\n",
    "import json\n",
    "\n",
    "admin_client = AdminClient({'bootstrap.servers': 'kafka:9092'})"
   ]
  },
  {
   "cell_type": "code",
   "execution_count": null,
   "id": "457ffa4b-9f4e-47f3-9bd5-8653ddbde1e0",
   "metadata": {},
   "outputs": [],
   "source": [
    "# LIST TOPICS\n",
    "\n",
    "md = admin_client.list_topics(timeout=10)\n",
    "print(\" {} topics:\".format(len(md.topics)))\n",
    "for t in iter(md.topics.values()):\n",
    "    if t.error is not None:\n",
    "        errstr = \": {}\".format(t.error)\n",
    "    else:\n",
    "        errstr = \"\"\n",
    "    print(\"  \\\"{}\\\" with {} partition(s){}\".format(t, len(t.partitions), errstr))"
   ]
  },
  {
   "cell_type": "code",
   "execution_count": null,
   "id": "1f62dda3-30f4-4865-b47b-04d1b7f1721c",
   "metadata": {},
   "outputs": [],
   "source": [
    "from confluent_kafka import Consumer, KafkaError\n",
    "import json\n",
    "\n",
    "c = Consumer(\n",
    "    {\n",
    "        'bootstrap.servers': 'kafka:9092',\n",
    "        'group.id': 'test',\n",
    "        'auto.offset.reset': 'earliest'\n",
    "    }\n",
    ")\n",
    "\n",
    "c.subscribe([\"DEALER1_CARS\",\"DEALER1_TRUCKS\"])\n",
    "\n",
    "waiting = False\n",
    "\n",
    "try:\n",
    "    while True:\n",
    "        msg = c.poll(1.0)                                        # retrieve records\n",
    "        if msg is None:\n",
    "            if waiting:\n",
    "                print(\".\",end =\" \")\n",
    "            else:\n",
    "                print(\"Waiting\",end =\" \")\n",
    "                waiting = True\n",
    "            continue\n",
    "        elif msg.error():\n",
    "            print('error: {}'.format(msg.error()))\n",
    "            waiting = False\n",
    "        else:\n",
    "            value = json.loads(msg.value())                      # get the value of the message (json.loads)\n",
    "            topic = msg.topic()                               # get the key of the message\n",
    "            print(\"\\nConsumed record from {} with value {}\"\n",
    "                  .format(topic, value))\n",
    "            waiting = False\n",
    "except KeyboardInterrupt:\n",
    "    pass\n",
    "finally:\n",
    "    c.close()  "
   ]
  },
  {
   "cell_type": "code",
   "execution_count": null,
   "id": "5bd02d0e-686e-4825-8dd2-b24f05c53783",
   "metadata": {},
   "outputs": [],
   "source": [
    "from confluent_kafka import Consumer, KafkaError\n",
    "import json\n",
    "\n",
    "c = Consumer(\n",
    "    {\n",
    "        'bootstrap.servers': 'kafka:9092',\n",
    "        'group.id': 'test',\n",
    "        'auto.offset.reset': 'earliest'\n",
    "    }\n",
    ")\n",
    "\n",
    "c.subscribe([\"DEALER2_VEHICLES\",\"DEALER2_USERS\"])\n",
    "\n",
    "waiting = False\n",
    "\n",
    "try:\n",
    "    while True:\n",
    "        msg = c.poll(1.0)                                        # retrieve records\n",
    "        if msg is None:\n",
    "            if waiting:\n",
    "                print(\".\",end =\" \")\n",
    "            else:\n",
    "                print(\"Waiting\",end =\" \")\n",
    "                waiting = True\n",
    "            continue\n",
    "        elif msg.error():\n",
    "            print('error: {}'.format(msg.error()))\n",
    "            waiting = False\n",
    "        else:\n",
    "            value = json.loads(msg.value())                      # get the value of the message (json.loads)\n",
    "            topic = msg.topic()                               # get the key of the message\n",
    "            print(\"\\nConsumed record from {} with value {}\"\n",
    "                  .format(topic, value))\n",
    "            waiting = False\n",
    "except KeyboardInterrupt:\n",
    "    pass\n",
    "finally:\n",
    "    c.close()  "
   ]
  },
  {
   "cell_type": "code",
   "execution_count": null,
   "id": "0c804700-f88e-4584-a279-fbcd7e89c8db",
   "metadata": {},
   "outputs": [],
   "source": []
  }
 ],
 "metadata": {
  "kernelspec": {
   "display_name": "Python 3 (ipykernel)",
   "language": "python",
   "name": "python3"
  },
  "language_info": {
   "codemirror_mode": {
    "name": "ipython",
    "version": 3
   },
   "file_extension": ".py",
   "mimetype": "text/x-python",
   "name": "python",
   "nbconvert_exporter": "python",
   "pygments_lexer": "ipython3",
   "version": "3.9.7"
  }
 },
 "nbformat": 4,
 "nbformat_minor": 5
}
