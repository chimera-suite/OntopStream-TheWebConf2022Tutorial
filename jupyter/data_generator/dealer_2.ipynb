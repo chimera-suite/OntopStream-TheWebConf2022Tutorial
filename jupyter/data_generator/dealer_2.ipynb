{
 "cells": [
  {
   "cell_type": "markdown",
   "id": "2fcb42f8-99ec-4dee-9d11-13e877b8d25b",
   "metadata": {},
   "source": [
    "# Kafka Producer: dealer #2"
   ]
  },
  {
   "cell_type": "code",
   "execution_count": 6,
   "id": "a85aca8d-30b7-4268-a56d-9e3ca33d7f69",
   "metadata": {},
   "outputs": [
    {
     "name": "stdout",
     "output_type": "stream",
     "text": [
      "Note: you may need to restart the kernel to use updated packages.\n"
     ]
    }
   ],
   "source": [
    "pip install confluent_kafka --quiet"
   ]
  },
  {
   "cell_type": "code",
   "execution_count": 7,
   "id": "799c1326-0f7c-4e9e-925d-71a6a4718f45",
   "metadata": {},
   "outputs": [
    {
     "name": "stdout",
     "output_type": "stream",
     "text": [
      "Failed to create topic DEALER2_VEHICLES: KafkaError{code=TOPIC_ALREADY_EXISTS,val=36,str=\"Topic 'DEALER2_VEHICLES' already exists.\"}\n",
      "Failed to create topic DEALER2_USERS: KafkaError{code=TOPIC_ALREADY_EXISTS,val=36,str=\"Topic 'DEALER2_USERS' already exists.\"}\n"
     ]
    }
   ],
   "source": [
    "from confluent_kafka import Producer, KafkaError\n",
    "from confluent_kafka.admin import AdminClient, NewTopic, NewPartitions\n",
    "import string\n",
    "\n",
    "topic_vehicles = \"DEALER2_VEHICLES\"\n",
    "topic_users = \"DEALER2_USERS\"\n",
    "\n",
    "a = AdminClient({'bootstrap.servers': 'kafka:9092'})\n",
    "fs = a.create_topics([NewTopic(topic_vehicles, num_partitions=1, replication_factor=1),\n",
    "                      NewTopic(topic_users, num_partitions=1, replication_factor=1)])\n",
    "\n",
    "for t, f in fs.items():\n",
    "    try:\n",
    "        f.result()  # The result itself is None\n",
    "        print(\"Topic {} created\".format(t))\n",
    "    except Exception as e:\n",
    "        print(\"Failed to create topic {}: {}\".format(t, e))"
   ]
  },
  {
   "cell_type": "markdown",
   "id": "da08ba02-aeeb-4fd9-ac4e-c98cef5b9f30",
   "metadata": {},
   "source": [
    "Generate and publish a new topic message every 10 to 30 seconds."
   ]
  },
  {
   "cell_type": "code",
   "execution_count": 9,
   "id": "53c0e5f4-0ad8-43c3-be8e-39668459b88a",
   "metadata": {},
   "outputs": [
    {
     "name": "stderr",
     "output_type": "stream",
     "text": [
      "%4|1642175499.553|TERMINATE|rdkafka#producer-2| [thrd:app]: Producer terminating with 48 messages (6203 bytes) still in queue or transit: use flush() to wait for outstanding message delivery\n"
     ]
    }
   ],
   "source": [
    "producerconf = {'bootstrap.servers': 'kafka:9092'}\n",
    "prod = Producer(producerconf)"
   ]
  },
  {
   "cell_type": "code",
   "execution_count": 10,
   "id": "9fc33c11-345a-4fbe-abce-cac27eede2d7",
   "metadata": {},
   "outputs": [],
   "source": [
    "from csv import DictReader,reader\n",
    "from datetime import datetime\n",
    "import time\n",
    "import random\n",
    "import json\n",
    "\n",
    "vehicles = iter(DictReader(open('vehicles.csv', 'r')))\n",
    "\n",
    "users = {}\n",
    "registered_users = []\n",
    "with open('users.csv', 'r') as user_file:\n",
    "    csv_reader = reader(user_file)\n",
    "    header = next(csv_reader)\n",
    "    for row in csv_reader:\n",
    "        users[row[0]]=row[1]"
   ]
  },
  {
   "cell_type": "code",
   "execution_count": 11,
   "id": "debab51e-b08a-47ac-a427-9129bbd7dae0",
   "metadata": {},
   "outputs": [
    {
     "name": "stdout",
     "output_type": "stream",
     "text": [
      "USER: {'userID': '3', 'name': 'Kevin Rodriguez'}\n",
      "VEHICLE: {'userID': '3', 'rid': '1', 'type': 'Car', 'manufacturer': 'Audi', 'model': 'A3', 'plate': 'DFU4HJF', 'status': 'START', 'ts': '2022-01-14 15:51:44'}\n",
      "USER: {'userID': '4', 'name': 'Catherine Crandell'}\n",
      "VEHICLE: {'userID': '4', 'rid': '2', 'type': 'Car', 'manufacturer': 'Mercedes', 'model': 'Classe C', 'plate': '784JD93', 'status': 'START', 'ts': '2022-01-14 15:52:05'}\n",
      "USER: {'userID': '1', 'name': 'Douglas Fitch'}\n",
      "VEHICLE: {'userID': '1', 'rid': '3', 'type': 'Car', 'manufacturer': 'Porsche', 'model': '911', 'plate': 'UF94JF', 'status': 'START', 'ts': '2022-01-14 15:52:26'}\n",
      "USER: {'userID': '2', 'name': 'William Diaz'}\n",
      "VEHICLE: {'userID': '2', 'rid': '4', 'type': 'Car', 'manufacturer': 'Audi', 'model': 'A4', 'plate': 'AL3SLS', 'status': 'START', 'ts': '2022-01-14 15:52:50'}\n",
      "VEHICLE: {'userID': '1', 'rid': '3', 'type': 'Car', 'manufacturer': 'Porsche', 'model': '911', 'plate': 'UF94JF', 'status': 'END', 'ts': '2022-01-14 15:53:05'}\n",
      "USER: {'userID': '9', 'name': 'Mark Haws'}\n",
      "VEHICLE: {'userID': '9', 'rid': '5', 'type': 'Car', 'manufacturer': 'Porsche', 'model': 'Cayenne', 'plate': 'A49CKED', 'status': 'START', 'ts': '2022-01-14 15:53:20'}\n",
      "VEHICLE: {'userID': '3', 'rid': '6', 'type': 'Car', 'manufacturer': 'Audi', 'model': 'TT', 'plate': '045MDAX', 'status': 'START', 'ts': '2022-01-14 15:53:34'}\n",
      "VEHICLE: {'userID': '4', 'rid': '2', 'type': 'Car', 'manufacturer': 'Mercedes', 'model': 'Classe C', 'plate': '784JD93', 'status': 'END', 'ts': '2022-01-14 15:53:56'}\n",
      "VEHICLE: {'userID': '3', 'rid': '7', 'type': 'Truck', 'manufacturer': 'Mercedes', 'model': 'Vito', 'plate': 'KD94KDS', 'status': 'START', 'ts': '2022-01-14 15:54:19'}\n",
      "USER: {'userID': '6', 'name': 'Wayne Flower'}\n",
      "VEHICLE: {'userID': '6', 'rid': '8', 'type': 'Truck', 'manufacturer': 'Mercedes', 'model': 'Vito', 'plate': '012JKD0', 'status': 'START', 'ts': '2022-01-14 15:54:43'}\n",
      "VEHICLE: {'userID': '3', 'rid': '6', 'type': 'Car', 'manufacturer': 'Audi', 'model': 'TT', 'plate': '045MDAX', 'status': 'END', 'ts': '2022-01-14 15:55:00'}\n",
      "USER: {'userID': '7', 'name': 'Laura Baker'}\n",
      "VEHICLE: {'userID': '7', 'rid': '9', 'type': 'Truck', 'manufacturer': 'Mercedes', 'model': 'Citan', 'plate': 'B38SDJA', 'status': 'START', 'ts': '2022-01-14 15:55:15'}\n",
      "VEHICLE: {'userID': '9', 'rid': '5', 'type': 'Car', 'manufacturer': 'Porsche', 'model': 'Cayenne', 'plate': 'A49CKED', 'status': 'END', 'ts': '2022-01-14 15:55:40'}\n",
      "USER: {'userID': '8', 'name': 'Jane McPeak'}\n",
      "VEHICLE: {'userID': '8', 'rid': '10', 'type': 'Car', 'manufacturer': 'Porsche', 'model': 'Cayenne', 'plate': 'A49CKED', 'status': 'START', 'ts': '2022-01-14 15:56:05'}\n",
      "USER: {'userID': '5', 'name': 'Richard Tillman'}\n",
      "VEHICLE: {'userID': '5', 'rid': '11', 'type': 'Car', 'manufacturer': 'Audi', 'model': 'TT', 'plate': '045MDAX', 'status': 'START', 'ts': '2022-01-14 15:56:19'}\n",
      "VEHICLE: {'userID': '3', 'rid': '1', 'type': 'Car', 'manufacturer': 'Audi', 'model': 'A3', 'plate': 'DFU4HJF', 'status': 'END', 'ts': '2022-01-14 15:56:43'}\n",
      "VEHICLE: {'userID': '9', 'rid': '12', 'type': 'Car', 'manufacturer': 'Mercedes', 'model': 'Classe E', 'plate': 'D74HJDK', 'status': 'START', 'ts': '2022-01-14 15:57:08'}\n",
      "VEHICLE: {'userID': '6', 'rid': '8', 'type': 'Truck', 'manufacturer': 'Mercedes', 'model': 'Vito', 'plate': '012JKD0', 'status': 'END', 'ts': '2022-01-14 15:57:35'}\n",
      "USER: {'userID': '10', 'name': 'Jeanie Morgan'}\n",
      "VEHICLE: {'userID': '10', 'rid': '13', 'type': 'Truck', 'manufacturer': 'Mercedes', 'model': 'Vito', 'plate': '012JKD0', 'status': 'START', 'ts': '2022-01-14 15:57:59'}\n",
      "VEHICLE: {'userID': '2', 'rid': '4', 'type': 'Car', 'manufacturer': 'Audi', 'model': 'A4', 'plate': 'AL3SLS', 'status': 'END', 'ts': '2022-01-14 15:58:16'}\n",
      "VEHICLE: {'userID': '3', 'rid': '14', 'type': 'Car', 'manufacturer': 'Porsche', 'model': '911', 'plate': 'UF94JF', 'status': 'START', 'ts': '2022-01-14 15:58:37'}\n",
      "VEHICLE: {'userID': '10', 'rid': '13', 'type': 'Truck', 'manufacturer': 'Mercedes', 'model': 'Vito', 'plate': '012JKD0', 'status': 'END', 'ts': '2022-01-14 15:58:50'}\n",
      "VEHICLE: {'userID': '7', 'rid': '9', 'type': 'Truck', 'manufacturer': 'Mercedes', 'model': 'Citan', 'plate': 'B38SDJA', 'status': 'END', 'ts': '2022-01-14 15:59:09'}\n",
      "VEHICLE: {'userID': '3', 'rid': '15', 'type': 'Truck', 'manufacturer': 'Mercedes', 'model': 'Citan', 'plate': 'B38SDJA', 'status': 'START', 'ts': '2022-01-14 15:59:28'}\n",
      "VEHICLE: {'userID': '9', 'rid': '16', 'type': 'Car', 'manufacturer': 'Audi', 'model': 'A4', 'plate': 'AL3SLS', 'status': 'START', 'ts': '2022-01-14 15:59:40'}\n",
      "VEHICLE: {'userID': '9', 'rid': '12', 'type': 'Car', 'manufacturer': 'Mercedes', 'model': 'Classe E', 'plate': 'D74HJDK', 'status': 'END', 'ts': '2022-01-14 16:00:09'}\n",
      "VEHICLE: {'userID': '3', 'rid': '7', 'type': 'Truck', 'manufacturer': 'Mercedes', 'model': 'Vito', 'plate': 'KD94KDS', 'status': 'END', 'ts': '2022-01-14 16:00:26'}\n",
      "VEHICLE: {'userID': '8', 'rid': '10', 'type': 'Car', 'manufacturer': 'Porsche', 'model': 'Cayenne', 'plate': 'A49CKED', 'status': 'END', 'ts': '2022-01-14 16:00:51'}\n",
      "VEHICLE: {'userID': '1', 'rid': '17', 'type': 'Car', 'manufacturer': 'Porsche', 'model': 'Cayenne', 'plate': 'A49CKED', 'status': 'START', 'ts': '2022-01-14 16:01:06'}\n",
      "VEHICLE: {'userID': '3', 'rid': '15', 'type': 'Truck', 'manufacturer': 'Mercedes', 'model': 'Citan', 'plate': 'B38SDJA', 'status': 'END', 'ts': '2022-01-14 16:01:36'}\n",
      "VEHICLE: {'userID': '9', 'rid': '16', 'type': 'Car', 'manufacturer': 'Audi', 'model': 'A4', 'plate': 'AL3SLS', 'status': 'END', 'ts': '2022-01-14 16:01:47'}\n",
      "VEHICLE: {'userID': '3', 'rid': '14', 'type': 'Car', 'manufacturer': 'Porsche', 'model': '911', 'plate': 'UF94JF', 'status': 'END', 'ts': '2022-01-14 16:02:05'}\n",
      "VEHICLE: {'userID': '3', 'rid': '18', 'type': 'Car', 'manufacturer': 'Audi', 'model': 'A4', 'plate': 'FJK48FJ', 'status': 'START', 'ts': '2022-01-14 16:02:18'}\n",
      "VEHICLE: {'userID': '1', 'rid': '17', 'type': 'Car', 'manufacturer': 'Porsche', 'model': 'Cayenne', 'plate': 'A49CKED', 'status': 'END', 'ts': '2022-01-14 16:02:28'}\n",
      "VEHICLE: {'userID': '4', 'rid': '19', 'type': 'Truck', 'manufacturer': 'Mercedes', 'model': 'Vito', 'plate': 'KD94KDS', 'status': 'START', 'ts': '2022-01-14 16:02:51'}\n",
      "VEHICLE: {'userID': '3', 'rid': '18', 'type': 'Car', 'manufacturer': 'Audi', 'model': 'A4', 'plate': 'FJK48FJ', 'status': 'END', 'ts': '2022-01-14 16:03:09'}\n",
      "VEHICLE: {'userID': '4', 'rid': '19', 'type': 'Truck', 'manufacturer': 'Mercedes', 'model': 'Vito', 'plate': 'KD94KDS', 'status': 'END', 'ts': '2022-01-14 16:03:26'}\n",
      "VEHICLE: {'userID': '5', 'rid': '11', 'type': 'Car', 'manufacturer': 'Audi', 'model': 'TT', 'plate': '045MDAX', 'status': 'END', 'ts': '2022-01-14 16:03:37'}\n"
     ]
    }
   ],
   "source": [
    "for vehicle in iter(DictReader(open('vehicles.csv', 'r'))):\n",
    "    \n",
    "    if vehicle[\"userID\"] not in registered_users:\n",
    "        uid = vehicle[\"userID\"]\n",
    "        registered_users.append(uid)\n",
    "        user = {\"userID\": uid, \"name\": users[uid]}\n",
    "        print(\"USER: {}\".format(user))\n",
    "        prod.produce(topic=topic_users, value=json.dumps(user))\n",
    "    \n",
    "    vehicle[\"ts\"] = datetime.now().strftime(\"%Y-%m-%d %H:%M:%S\")\n",
    "    print(\"VEHICLE: {}\".format(vehicle))\n",
    "    prod.produce(topic=topic_vehicles, value=json.dumps(vehicle))\n",
    "    \n",
    "    # Random data generation\n",
    "    time.sleep(random.randint(10,30))"
   ]
  },
  {
   "cell_type": "code",
   "execution_count": null,
   "id": "3c0d19f9-8783-495d-8b63-4b1c0260226a",
   "metadata": {},
   "outputs": [],
   "source": []
  },
  {
   "cell_type": "code",
   "execution_count": null,
   "id": "07cfb1bb-c099-41eb-9066-c26066e9067c",
   "metadata": {},
   "outputs": [],
   "source": []
  }
 ],
 "metadata": {
  "kernelspec": {
   "display_name": "Python 3 (ipykernel)",
   "language": "python",
   "name": "python3"
  },
  "language_info": {
   "codemirror_mode": {
    "name": "ipython",
    "version": 3
   },
   "file_extension": ".py",
   "mimetype": "text/x-python",
   "name": "python",
   "nbconvert_exporter": "python",
   "pygments_lexer": "ipython3",
   "version": "3.9.7"
  }
 },
 "nbformat": 4,
 "nbformat_minor": 5
}
